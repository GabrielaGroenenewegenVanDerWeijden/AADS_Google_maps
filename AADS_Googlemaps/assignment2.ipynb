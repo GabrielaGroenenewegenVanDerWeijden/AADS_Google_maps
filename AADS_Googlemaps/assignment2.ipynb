{
 "cells": [
  {
   "cell_type": "markdown",
   "id": "64f218a4-26d7-4aba-90d4-c4a4517bb3fa",
   "metadata": {
    "deletable": false,
    "editable": false,
    "slideshow": {
     "slide_type": ""
    },
    "tags": []
   },
   "source": [
    "# Welcome to assignment 2: Breadth First Search & Divide and Conquer\n",
    "\n",
    "## Building a Local Google Maps\n",
    "\n",
    "In this week's programming assignment, you will be working on a small-scale local Google Maps. Throughout the assignment, you will step by step build this route planner. You do not need to copy the code, it is enough to work in the cell under each assignment. Note that there are separate cells provided where you can (and should) test your code. During the assignment, you will (through customMagics) obtain a Python file (.py) which you should run against a set of unittests. Please avoid writing any unnecessary code in cells containing the `%%execwritefile` command. Doing this could alter the file `.py` and make it syntactically incorrect or interfere with the unittests. To prevent this stick to the following rules:\n",
    " - ***Do not remove cells that start with ``%%execwritefile`` and do not remove that line.***\n",
    " - If a cell contains a `%%execwritefile` command at the top and a class definition you need to complete the given methods and adding helper methods is allowed, but do **not** add new functions or Python script to the cells (like global variables).\n",
    " - If a cell contains a `%%execwritefile` command at the top and **not** a class definition you must complete the given functions and you are free to add helper functions, new classes, and Python script that contains for example global variables. Note, that the use of global variables is almost always wrong except for a few use cases such as RNG for the numpy random generator methods.\n",
    " - If a cell does **not** contain a `%%execwritefile` command you can plot things, print variables, and write test cases. Here, you are free to do whatever you want.\n",
    " - If a cell does **not** contain a `%%execwritefile` command it should not contain functional code that is needed to run other functions or classes. The reason is that it is not copied to the `.py`. So, it can not be used during the unittesting.\n",
    "\n",
    "You do not need to look at the customMagic.py nor do more than glimpse at the test file, your assignment is contained in this workbook unless specified differently in this notebook's instructions. \n",
    "\n",
    "This assignment is given as a Jupyter notebook, you might run this in your browser by starting a notebook server or through VScode (PyCharm only allows for read-only mode for jupyter notebooks, unless you have Pycharm-pro which is a paid version or you need a student license). The simplest way to [install jupyter](https://docs.jupyter.org/en/latest/install/notebook-classic.html) notebooks is by installing [Anaconda](https://docs.anaconda.com/free/anaconda/install/), a custom python distribution and packagemanager used for Data Science. If you do not want to install all of Anaconda you can also install jupyter via pip: ``pip3 install jupyter`` (`pip3` or `pip` will work depending on how you installed python3). You can find a tutorial for running the notebook [here](https://jupyter-notebook.readthedocs.io/en/latest/notebook.html). With VScode the IDE should guide you in installing the correct packages. \n",
    "\n",
    "***Hint: Jupyter Notebooks saves variables between runs. If you get unexpected results try restarting the kernel, this deletes any saved variables.*** \n",
    "\n",
    "### Some Additional Rules:\n",
    "\n",
    " - You are not allowed to change the given code. This includes attribute names, method names, arguments, etc.\n",
    " - You are not allowed to import other modules than the one provided.\n",
    " - You are allowed to add functions yourself if you feel that that makes it easier. Note, however, that points are deducted if we think that they are unnecessary. Make sure to document these consistently.\n",
    " - Read the written documentation about the functions you need to implement, they tell you what to do. Most of these functions require less than 10 lines of code.\n",
    " - In the end, you can run unittests as an extra check that your code works. You are free to add additional unittests.\n",
    " - If your program does not succeed on all unittests that are provided, it is likely that there is still a problem in your code. Make sure that all unittests succeed, before submitting the code.\n",
    " - Also keep in mind that all unit tests should be able to run within a matter of seconds on any computer.\n",
    " - A path always consists of the source and destination node/coordinate.\n",
    " - Also, a path describes unambiguous how to go from the source to the destination. For an algorithm that uses the grid to find the path, you will give all coordinates that are visited. An algorithm that uses nodes, you give all the nodes that are visited.\n",
    "\n",
    "Hint: Throughout the assignment, questions are asked about various algorithms and how and why they work. The answers are typical things that should be found in your report. \n",
    "\n",
    "\n",
    "Please fill in your student numbers down below."
   ]
  },
  {
   "cell_type": "code",
   "execution_count": 331,
   "id": "1839a71e-dc16-4586-b532-1b614bd0743d",
   "metadata": {
    "editable": true,
    "slideshow": {
     "slide_type": ""
    },
    "tags": []
   },
   "outputs": [],
   "source": [
    "# FILL IN YOUR STUDENT NUMBERS AS A GROUP NAME\n",
    "group = \"3424340\"\n",
    "\n",
    "# Set this to false if you want the default screen width.\n",
    "WIDE_SCREEN = True"
   ]
  },
  {
   "cell_type": "code",
   "execution_count": 332,
   "id": "a3cfc620-efce-4e89-9baf-91f22bc4318a",
   "metadata": {
    "editable": false,
    "slideshow": {
     "slide_type": ""
    },
    "tags": []
   },
   "outputs": [
    {
     "data": {
      "text/html": [
       "<style>.jp-Notebook { padding-left: 1% !important; padding-right: 1% !important; width:100% !important; } </style>"
      ],
      "text/plain": [
       "<IPython.core.display.HTML object>"
      ]
     },
     "metadata": {},
     "output_type": "display_data"
    }
   ],
   "source": [
    "from custommagics import CustomMagics\n",
    "import matplotlib.pyplot as plt\n",
    "\n",
    "if WIDE_SCREEN:\n",
    "    import notebook\n",
    "    from IPython.display import display, HTML\n",
    "\n",
    "    if int(notebook.__version__.split(\".\")[0]) >= 7:    \n",
    "        display(HTML(\n",
    "            '<style>'\n",
    "                '.jp-Notebook { padding-left: 1% !important; padding-right: 1% !important; width:100% !important; } '\n",
    "            '</style>'\n",
    "        ))\n",
    "    else:\n",
    "        display(HTML(\"<style>.container { width:98% !important; }</style>\"))\n",
    "\n",
    "get_ipython().register_magics(CustomMagics)"
   ]
  },
  {
   "cell_type": "code",
   "execution_count": 333,
   "id": "01d874e2-8baf-4a43-b10e-811cde0bc5ed",
   "metadata": {
    "editable": false,
    "slideshow": {
     "slide_type": ""
    },
    "tags": []
   },
   "outputs": [
    {
     "name": "stdout",
     "output_type": "stream",
     "text": [
      "assignment2_3424340_notebook.py is backup to assignment2_3424340_notebook_backup.py\n",
      "Overwriting assignment2_3424340_notebook.py\n"
     ]
    }
   ],
   "source": [
    "%%execwritefile assignment2_{group}_notebook.py 0 \n",
    "\n",
    "# DO NOT CHANGE THIS CELL.\n",
    "# THESE ARE THE ONLY IMPORTS YOU ARE ALLOWED TO USE:\n",
    "\n",
    "import numpy as np\n",
    "import copy\n",
    "from grid_maker import Map\n",
    "from collections import defaultdict, deque\n",
    "\n",
    "RNG = np.random.default_rng()"
   ]
  },
  {
   "cell_type": "code",
   "execution_count": 334,
   "id": "1df1055a-2f40-46ac-8437-377155ff367b",
   "metadata": {
    "editable": true,
    "slideshow": {
     "slide_type": ""
    },
    "tags": []
   },
   "outputs": [],
   "source": [
    "# size of the image\n",
    "plt.matplotlib.rcParams['figure.figsize'] = [60, 20]  \n",
    "# font size used in matplotlib figures\n",
    "plt.matplotlib.rcParams['font.size'] = 30"
   ]
  },
  {
   "cell_type": "markdown",
   "id": "3b3495c1-629c-42a6-95c6-39ef959fca82",
   "metadata": {
    "editable": false,
    "slideshow": {
     "slide_type": ""
    },
    "tags": []
   },
   "source": [
    "## Assignment Outline\n",
    "\n",
    "In this assignment, you will create a route planner for a fictional country where we have several cities connected by highways. Your final goal is to give travel directions (route description) to go as fast as possible from any coordinate in the map to any other coordinate in the map. Due to the size of the map, it would be infeasible to use an exhaustive search, where you check all possible paths and find the fastest path. Therefore, we will use the idea of dynamic programming to save partial solutions that are always the same (between crossroads you travel always at the same coordinates), and the idea of divide and conquer to find the fastest path at several levels of abstraction (neighborhood, city, and country). Lastly, we will use Dijkstra (a form of dynamic programming) to find the fastest path efficiently.\n",
    "\n",
    "### Assignment Algorithms\n",
    "\n",
    "In the assignment, we will start small with simpler algorithms and slowly build towards this more complex algorithm:\n",
    "\n",
    "Shortest Path (distance):\n",
    " - [1.0](#1.0-Grid-Floodfill,-a-Basic-BFS) Breadth-first search (BFS) with a small and simple grid, i.e., flood-fill algorithm.\n",
    " - [1.1](#1.1-Graph-vs-Grid) Building a graph from an array to reduce the size of the state-space.\n",
    " - [1.2](#1.2-Graph-Floodfill) BFS using a weighted graph based on the array.\n",
    " - [1.3](#1.3-BFS-with-Priority-Queue) BFS using a weighted graph and a priority queue.\n",
    "\n",
    "Fastest Path (time):\n",
    " - [2.0](#2.0-Fastest-Path-with-BFS) Make a more general BFS algorithm where you take the maximum speed into account.\n",
    " - [2.1](#2.1-From-Coordinate-to-Node) Make an algorithm to find the nearest nodes given the grid and graph.\n",
    " - [2.2](#2.2-Hierarchical-Graph-Representations) Split the graph into multiple graphs to reduce the state-space (A manual optimization based on divide and conquer). Now, we can chain several optimal paths to find a coordinate to coordinate path.\n",
    " - [2.3](#2.3a-Solving-the-Hierarchical-Graph-Representations) In the previous step, we cut the graphs into several graphs. However, this might not always lead to the optimal path, therefore, We can at a parameter for how many solutions you want to find for each separate graph. This gives us the opportunity to tune between optimization and optimal pathfinding.\n",
    " - [3.0](#3.0-Fastest-Path-Between-Coordinates-(map-level-5)) Put everything together to find the (almost) optimal path from one coordinate to another.\n",
    "\n",
    "***Note, that if you only explain in the report the steps splitting of the graphs and multiple solutions without programming it, you still are able to get an 8.5***\n",
    "\n",
    "### Map Levels\n",
    "\n",
    "In the `grid_maker` module you can find a class `Map` that can be initialized with several difficulty levels, below you can find a description of each difficulty level. \n",
    "- level 0: A small grid representing a neighborhood with roads around the edges and streets from edge to edge.\n",
    "- level 1: A small grid representing a neighborhood with roads around the edges but the streets are not necessary from edge to edge.\n",
    "- level 2: A medium grid representing a larger neighborhood consisting of 4 level 1 neighborhoods with main roads around the edges.\n",
    "- level 3: A large grid representing a city district that consists of 4 larger neighborhoods with main roads around the edges and between the larger neighborhoods.\n",
    "- level 4: A very large grid representing a city that has 4 city districts and main roads between city districts and around the city.\n",
    "- level 5: A huge grid representing a country, consisting of 2 to 5 cities. Each city has a ring highway with exits leading into the city. The ring highways are interconnected with highways.\n",
    "\n",
    "### Map Objects Methods & Attributes\n",
    "\n",
    "Each type of road has its own speed limit which can be adjusted in `grid_maker.py` and denoted by an integer in the grid. Therefore, the values in a grid can also be used to identify road types. Furthermore, the `Map` class also contains several useful methods to help you program (You can ignore all static methods):\n",
    " - The `repr` method can be used to print the grid.\n",
    " - The `show` method can be used to plot the grid as an image. If a path is given as an argument for show then the path is also shown. A path should consist of a list of coordinates (a tuple of two ints). The second argument `axis` is a boolean which determines if the axis are plotted or not.\n",
    " - A `Map` object can be indexed the same way a 2D numpy array can be indexed. For example, `Map()[0,0]` gives the top left coordinate of a `Map`.\n",
    " - The `get_coordinate`  method gets a random coordinate on the map.\n",
    " - The `get_coordinate_in_city` method gets a random coordinate in a specific city and defaults to `get_coordinate` if the difficulty level is lower than 5.\n",
    " - The `get_city_map` method returns a copy of the map without the highways, but with exits.\n",
    " - The `get_highway_map` method returns a copy of the map with only highways.\n",
    " - The `get_all_city_exits` method return all highway exits of all cities.\n",
    "  \n",
    "A `Map` object has also the following attributes:\n",
    " - `grid`, the map which is a 2D numpy array.\n",
    " - `shape`, the shape of the grid.\n",
    " - `size`, the size of the grid.\n",
    " - `city_corners`, the upper left corner of a city in the general map, for level 0 to 4 this is just `(0,0)`\n",
    " - `city_grids`, the individual city grids of each map. Note, that this has a different coordinate system than the `map`. Namely, Each individual city has a left upper corner (0,0). So a coordinate in a individual city corresponds to a coordinate in the map using the `city_corners`."
   ]
  },
  {
   "cell_type": "markdown",
   "id": "9d9f4700-e8ef-4cf9-8f97-9949f9d2cf72",
   "metadata": {
    "editable": false,
    "slideshow": {
     "slide_type": ""
    },
    "tags": []
   },
   "source": [
    "## 1.0 Grid Floodfill, a Basic BFS\n",
    "\n",
    "In lab 4 exercise 3, we have seen how you can find the shortest path with breadth-first search (BFS) with static source and destination nodes. In this assignment, we will implement a more general algorithm where we can find any destination node in a grid from any source node. \n",
    "\n",
    "Often BFS on a grid is called a flood-fill algorithm. So, if you want more information about these kinds of BFS algorithms you can google flood-fill algorithms. The idea of a flood-fill algorithm is that you take one step in all possible directions in the grid. In this assignment, we can only go up, down, left, and right. For example, if you look at the image down below the red arrows indicate the first \"layer\" in the flood-fill algorithm. Next, you take one step from the red arrows that are indicated by the blue arrows. So, a flood-fill algorithm is just a BFS algorithm on a graph with cycles that is often structured as a grid.\n",
    "\n",
    "So before we can implement a BFS on the grid, we need to think about how to solve one of the major problems in graph traversal with cyclic graphs which is how to prevent going in circles. The simplest solution is to have a variable (history) that tracks where you have been. If you come across a node/coordinate that you have already visited then you would run in cycle if you keep exploring so you do not explore any option that you can take from that node.\n",
    "\n",
    "In lab 4 exercise 3, we stored all the paths how to get to a node. In this assignment, we do not need to store all paths as we are only interested in the optimal path therefore for each node only the previous node in the grid is stored. This is what the arrows in the image indicate. This makes it possible to retrace the steps and find the full path. As usual, you start the flood-fill at the source node. However, we can stop as soon as we find the destination node. Think about why we can stop if we find the destination node. Is it possible to find a shorter path after you already found the destination node? Why does Floodfill guarantee that you find the shortest path?\n",
    "\n",
    "So for the following grid:\n",
    "\n",
    "```python\n",
    "road_grid = np.array([\n",
    "    [1, 1, 1, 1, 1, 1, 1, 1, 1, 1, 1, 1, 1],\n",
    "    [1, 0, 0, 0, 0, 1, 0, 0, 1, 0, 0, 0, 1],\n",
    "    [1, 0, 0, 0, 0, 1, 0, 0, 1, 0, 0, 0, 1],\n",
    "    [1, 0, 0, 0, 0, 1, 0, 0, 1, 0, 0, 0, 1],\n",
    "    [1, 1, 1, 1, 1, 1, 1, 1, 1, 1, 1, 1, 1],\n",
    "    [1, 0, 0, 0, 0, 1, 0, 0, 1, 0, 0, 0, 1],\n",
    "    [1, 0, 0, 0, 0, 1, 0, 0, 1, 0, 0, 0, 1],\n",
    "    [1, 0, 0, 0, 0, 1, 0, 0, 1, 0, 0, 0, 1],\n",
    "    [1, 1, 1, 1, 1, 1, 1, 1, 1, 1, 1, 1, 1],\n",
    "])\n",
    "```\n",
    "\n",
    "A flood-fill from node `(4,2)` to `(6,5)` would look like the image below. Note, that the arrows are the information stored at each node (no arrow is no information) and the colors are one step in the flood-fill. \n",
    "\n",
    "<img src=\"floodfill.png\" alt=\"drawing\" width=\"500\"/>\n",
    "\n",
    "**Hint: Throughout the assignment, we will use attributes like queue and history. The difference between the two is that a queue determines the order in which nodes are visited. So everything in the queue has not been visited yet. The history does *not* tell which nodes are already visited, but which ones are visited or in the priority queue. In other words, the history contains all the steps that are taken or which will be taken. Also, it stores, for each node, information on how you can reach the node optimally, i.e., the previous node in the optimal path and (depending on the exercise) the distance between these nodes.**"
   ]
  },
  {
   "cell_type": "code",
   "execution_count": 335,
   "id": "a9378155-58df-4605-b576-557af7ddba26",
   "metadata": {
    "editable": true,
    "slideshow": {
     "slide_type": ""
    },
    "tags": []
   },
   "outputs": [
    {
     "name": "stdout",
     "output_type": "stream",
     "text": [
      "Appending to assignment2_3424340_notebook.py\n"
     ]
    }
   ],
   "source": [
    "              \n",
    "%%execwritefile assignment2_{group}_notebook.py 1 -a -s\n",
    "\n",
    "class FloodFillSolver():\n",
    "    \"\"\"\n",
    "    A class instance should at least contain the following attributes after being called:\n",
    "        :param queue: A queue that contains all the coordinates that need to be visited.\n",
    "        :type queue: collections.deque\n",
    "        :param history: A dictionary containing the coordinates that will be visited and as values the coordinate that lead to this coordinate.\n",
    "        :type history: dict[tuple[int], tuple[int]]\n",
    "    \"\"\"\n",
    "    \n",
    "    def __call__(self, road_grid, source, destination):\n",
    "        \"\"\"\n",
    "        This method gives a shortest route through the grid from source to destination.\n",
    "        You start at the source and the algorithm ends if you reach the destination, both coordinates should be included in the path.\n",
    "        To find the shortest route a version of a flood fill algorithm is used, see the explanation above.\n",
    "        A route consists of a list of coordinates.\n",
    "\n",
    "        Hint: The history is already given as a dictionary with as keys the coordinates in the state-space graph and\n",
    "        as values the previous coordinate from which this coordinate was visited.\n",
    "\n",
    "        :param road_grid: The array containing information where a house (zero) or a road (one) is.\n",
    "        :type road_grid: np.ndarray[(Any, Any), int]\n",
    "        :param source: The coordinate where the path starts.\n",
    "        :type source: tuple[int]\n",
    "        :param destination: The coordinate where the path ends.\n",
    "        :type destination: tuple[int]\n",
    "        :return: The shortest route, which consists of a list of coordinates and the length of the route.\n",
    "        :rtype: list[tuple[int]], float\n",
    "        \"\"\"\n",
    "        self.queue = deque([source])\n",
    "        self.history = {source: None}\n",
    "        \n",
    "        # Initializing the destination, source and road_grid.\n",
    "        self.destination = destination\n",
    "        self.source = source\n",
    "        self.road_grid = road_grid\n",
    "\n",
    "        # Calling the main_loop.\n",
    "        self.main_loop()\n",
    "\n",
    "        # Calculating the path and the length of the path.\n",
    "        path, length = self.find_path()\n",
    "\n",
    "        # Returning the path and the length of the path.\n",
    "        return path, length\n",
    "\n",
    "    def find_path(self):\n",
    "        \"\"\"\n",
    "        This method finds the shortest paths between the source node and the destination node.\n",
    "        It also returns the length of the path. \n",
    "        \n",
    "        Note, that going from one coordinate to the next has a length of 1.\n",
    "        For example: The distance between coordinates (0,0) and (0,1) is 1 and \n",
    "                     The distance between coordinates (3,0) and (3,3) is 3. \n",
    "\n",
    "        The distance is the Manhattan distance of the path.\n",
    "\n",
    "        :return: A path that is the optimal route from source to destination and its length.\n",
    "        :rtype: list[tuple[int]], float\n",
    "        \"\"\"\n",
    "\n",
    "        # Initializing the path list and the initial current node as the destination.\n",
    "        path = []\n",
    "        current = self.destination\n",
    "\n",
    "        # For as long the node is not None it will be added to the path and the new current node is initialized using the dictionary of history.\n",
    "        while current is not None:\n",
    "            path.append(current)\n",
    "            current = self.history[current]\n",
    "\n",
    "        # Calculating length according to Manhattan distance.\n",
    "        length = np.absolute (self.source[0] - self.destination[0]) + np.absolute (self.source[1] - self.destination[1])\n",
    "\n",
    "        # Reverse the path to get it from source to destination.\n",
    "        path = path[::-1]\n",
    "        \n",
    "        # Returning the path and the length.\n",
    "        return path, length\n",
    "              \n",
    "    def main_loop(self):\n",
    "        \"\"\"\n",
    "        This method contains the logic of the flood-fill algorithm for the shortest path problem.\n",
    "\n",
    "        It does not have any inputs nor outputs. \n",
    "        Hint, use object attributes to store results.\n",
    "        \"\"\"\n",
    "        # While the queue is not empty a new current node\n",
    "        while self.queue:\n",
    "            # We take the fist node in the queue and check if the base case is satisfied or not. If it is satisfied the loop stops and returns to the call function. Finally, from there the\n",
    "            # path and length can be returned since they computed.\n",
    "            node = self.queue.popleft()\n",
    "            if self.base_case(node):\n",
    "                return\n",
    "            # Otherwise, we are gonna go through all the next possible steps.\n",
    "            for new_node in self.next_step(node):\n",
    "                self.step(node, new_node)\n",
    "\n",
    "    def base_case(self, node):\n",
    "        \"\"\"\n",
    "        This method checks if the base case is reached.\n",
    "\n",
    "        :param node: The current node/coordinate\n",
    "        :type node: tuple[int]\n",
    "        :return: This returns if the base case is found or not\n",
    "        :rtype: bool\n",
    "        \"\"\"\n",
    "        # The base case is that the current node is the destination. Thus when \n",
    "        # we return true we know we have found the destination.\n",
    "        if node == self.destination:\n",
    "            return True\n",
    "\n",
    "        return False\n",
    "        \n",
    "        \n",
    "    def step(self, node, new_node):\n",
    "        \"\"\"\n",
    "        One flood-fill step.\n",
    "\n",
    "        :param node: The current node/coordinate\n",
    "        :type node: tuple[int]\n",
    "        :param new_node: The next node/coordinate that can be visited from the current node/coordinate\n",
    "        :type new_node: tuple[int]       \n",
    "        \"\"\"\n",
    "        # First we need to check if we have already gond through the next node. If not we add it to our queue and add to our history as key and with the value the previous node.\n",
    "        if new_node not in self.history:\n",
    "            self.queue.append(new_node)\n",
    "            self.history[new_node] = node\n",
    "\n",
    "    def next_step(self, node):\n",
    "        \"\"\"\n",
    "        This method returns the next possible actions.\n",
    "\n",
    "        :param node: The current node/coordinate\n",
    "        :type node: tuple[int]\n",
    "        :return: A list with possible next coordinates that can be visited from the current coordinate.\n",
    "        :rtype: list[tuple[int]]  \n",
    "        \"\"\"\n",
    "\n",
    "        # Getting the indices of the current node.\n",
    "        row, col = node[0], node[1]\n",
    "\n",
    "        # Initializing the te list.\n",
    "        pos_steps = []\n",
    "\n",
    "        # Looping throught every possible direction and checking if they are possible.\n",
    "        for direction in [(row + 1, col), (row, col + 1), (row, col - 1), (row - 1, col)]:\n",
    "            if direction[0] < self.road_grid.shape[0] and direction[1] < self.road_grid.shape[1] and direction[0] >= 0 and direction[1] >=0 and self.road_grid[direction] != 0:\n",
    "                pos_steps.append(direction)\n",
    "            \n",
    "        # Returning the possible steps.\n",
    "        return pos_steps   \n",
    "        \n"
   ]
  },
  {
   "cell_type": "markdown",
   "id": "fdeaec18-70b3-4fb9-95bc-73dada67fd1e",
   "metadata": {
    "editable": false,
    "slideshow": {
     "slide_type": ""
    },
    "tags": []
   },
   "source": [
    "### Test your code\n",
    "\n",
    "Below, you can test your algorithm. Make sure that you test various road grids and that your algorithm works for all of them. To give you a head start a very limited test is given."
   ]
  },
  {
   "cell_type": "code",
   "execution_count": 336,
   "id": "f1183567-6ff7-4b08-9650-ddcd32479fd7",
   "metadata": {},
   "outputs": [],
   "source": [
    "# If you put the map generated in a separate cell you can run multiple tests on the same map\n",
    "map_ = Map(0, (0,0))"
   ]
  },
  {
   "cell_type": "code",
   "execution_count": 337,
   "id": "16b2b1c5-aa6d-4d70-9570-501dd6fb5274",
   "metadata": {
    "editable": true,
    "slideshow": {
     "slide_type": ""
    },
    "tags": []
   },
   "outputs": [
    {
     "name": "stdout",
     "output_type": "stream",
     "text": [
      "The path length was 4.\n"
     ]
    },
    {
     "data": {
      "image/png": "[encoded data removed]",
      "text/plain": [
       "<Figure size 1800x600 with 2 Axes>"
      ]
     },
     "metadata": {},
     "output_type": "display_data"
    }
   ],
   "source": [
    "plt.matplotlib.rcParams['figure.dpi'] = max(30, map_.size ** 0.5 // 2)  # Number of pixels, therefore, the quality of the image. A large dpi is very slow.\n",
    "\n",
    "# Generate a random start and end position in the grid for proper testing.\n",
    "start = (0,0)\n",
    "end =  (map_.shape[0]-1, map_.shape[1]-1)\n",
    "path, length = FloodFillSolver()(map_, start, end)\n",
    "print(f\"The path length was {length}.\")\n",
    "map_.show(path, True)"
   ]
  },
  {
   "cell_type": "markdown",
   "id": "399c0bf0-b6e4-4f77-b43b-00a47ddd3178",
   "metadata": {
    "editable": false,
    "slideshow": {
     "slide_type": ""
    },
    "tags": []
   },
   "source": [
    "## 1.1 Graph vs Grid\n",
    "\n",
    "While the pathfinding works in the previous question it is not very efficient for a large grid or road network. Therefore, we can apply the principles of divide and conquer and dynamic programming to make it faster. So instead of finding the next possible action for each coordinate each time we run the solver, we will make a graph representation of the road network where we can save all possible next action for the coordinates that matter. When this graph is made we can use it to find the shortest path. Think about how this affects the algorithm and why it becomes faster. Does the complexity change or the state-space?\n",
    "\n",
    "### 1.1.0 Making Graph Nodes from a Map\n",
    "\n",
    "Here, we will make the graph from a given city grid. This graph should contain the following nodes:\n",
    " - All coordinates that are junctions.\n",
    " - All coordinates where you can change direction.\n",
    " - All coordinates that are a dead end.\n",
    "\n",
    "All other coordinates should ***not*** be in the graph. To represent the graph we use an adjacency list where each node in the graph is a coordinate. \n",
    "\n",
    "So given the map below:\n",
    "\n",
    "```python\n",
    "road_grid = np.array([\n",
    "    [30, 30, 30, 30, 30, 30, 30, 30, 30, 30, 30, 30, 30],\n",
    "    [30,  0,  0,  0,  0, 15,  0,  0, 15,  0,  0,  0, 30],\n",
    "    [30,  0,  0,  0,  0, 15,  0,  0, 15,  0,  0,  0, 30],\n",
    "    [30,  0,  0,  0,  0, 15,  0,  0, 15,  0,  0,  0, 30],\n",
    "    [30, 15, 15, 15, 15, 15, 15, 15, 15, 15, 15, 15, 30],\n",
    "    [30,  0,  0,  0,  0, 15,  0,  0, 15,  0,  0,  0, 30],\n",
    "    [30,  0,  0,  0,  0, 15,  0,  0, 15,  0,  0,  0, 30],\n",
    "    [30,  0,  0,  0,  0, 15,  0,  0, 15,  0,  0,  0, 30],\n",
    "    [30, 30, 30, 30, 30, 30, 30, 30, 30, 30, 30, 30, 30]\n",
    "])\n",
    "```\n",
    "\n",
    "Without the edges, we get the following adjacency list:\n",
    "\n",
    "```python\n",
    "adjacency_list = {\n",
    "    (0,  0): set(),\n",
    "    (0,  5): set(),\n",
    "    (0,  8): set(),\n",
    "    (0, 12): set(),\n",
    "    (4,  0): set(),\n",
    "    (4,  5): set(),\n",
    "    (4,  8): set(),\n",
    "    (4, 12): set(),\n",
    "    (8,  0): set(),\n",
    "    (8,  5): set(),\n",
    "    (8,  8): set(),\n",
    "    (8, 12): set(),\n",
    "}\n",
    "```"
   ]
  },
  {
   "cell_type": "code",
   "execution_count": 338,
   "id": "7abe8066-7c50-4ea2-a965-2f78a2148bc8",
   "metadata": {},
   "outputs": [
    {
     "name": "stdout",
     "output_type": "stream",
     "text": [
      "Appending to assignment2_3424340_notebook.py\n"
     ]
    }
   ],
   "source": [
    "%%execwritefile assignment2_{group}_notebook.py 10 -a -s\n",
    "\n",
    "class GraphBluePrint():\n",
    "    \"\"\"\n",
    "    You can ignore this class, it is just needed due to technicalities.\n",
    "    \"\"\"\n",
    "    def find_nodes(self): pass\n",
    "    def find_edges(self): pass\n",
    "    \n",
    "class Graph(GraphBluePrint):   \n",
    "    \"\"\"\n",
    "    Attributes:\n",
    "        :param adjacency_list: The adjacency list with the road distances and speed limit.\n",
    "        :type adjacency_list: dict[tuple[int]: set[edge]], where an edge is a fictional datatype \n",
    "                              which is a tuple containing the datatypes tuple[int], int, float\n",
    "        :param map: The map of the graph.\n",
    "        :type map: Map\n",
    "    \"\"\"\n",
    "    def __init__(self, map_, start=(0, 0)):\n",
    "        \"\"\"\n",
    "        This function transforms any (city or lower) map into a graph representation.\n",
    "\n",
    "        :param map_: The map that needs to be transformed.\n",
    "        :type map_: Map\n",
    "        :param start: The start node from which we will find all other nodes.\n",
    "        :type start: tuple[int]\n",
    "        \"\"\"\n",
    "        self.adjacency_list = {}\n",
    "        self.map = map_\n",
    "        self.start = start\n",
    "        \n",
    "        self.find_nodes()\n",
    "        self.find_edges()  # This will be implemented in the next notebook cell\n",
    "        \n",
    "    def find_nodes(self):\n",
    "        \"\"\"\n",
    "        This method contains a breadth-frist search algorithm to find all the nodes in the graph.\n",
    "        So far, we called this method `step`. However, this class is more than just the search algorithm,\n",
    "        therefore, we gave it a bit more descriptive name.\n",
    "\n",
    "        Note, that we only want to find the nodes, so history does not need to contain a partial path (previous node).\n",
    "        In `find_edges` (the next cell), we will add edges for each node.\n",
    "        \"\"\"\n",
    "        queue = deque([self.start])\n",
    "        history = {self.start}\n",
    "\n",
    "\n",
    "        # Looping through the queue until it is empty.\n",
    "        while queue:\n",
    "            # In the first loop the current node would be 'self.start', from there after each iteration it would be the next node in the queue.   \n",
    "            current = queue.popleft()\n",
    "\n",
    "            # Finding the possible actions using the neighbour_coordinates function.\n",
    "            actions = self.neighbour_coordinates(current)\n",
    "\n",
    "            # Checking if the current node needs to be added to the adjacency list.\n",
    "            self.adjacency_list_add_node(current, actions)\n",
    "\n",
    "            # Going throught all the actions and adding them to the queue and history if they are not in history. They should be added in the queue and history.\n",
    "            for action in actions:\n",
    "                if action not in history:\n",
    "                    queue.append(action)\n",
    "                    history.add(action)\n",
    "            \n",
    "\n",
    "                    \n",
    "    def adjacency_list_add_node(self, coordinate, actions):\n",
    "        \"\"\"\n",
    "        This is a helper function for the breadth-first search algorithm to add a coordinate to the `adjacency_list` and\n",
    "        to determine if a coordinate needs to be added to the `adjacency_list`.\n",
    "\n",
    "        Reminder: A coordinate should only be added to the adjacency list if it is a corner, a crossing, or a dead end.\n",
    "                  Adding the coordinate to the adjacency_list is equivalent to saying that it is a node in the graph.\n",
    "\n",
    "        :param coordinate: The coordinate that might need to be added to the adjacency_list.\n",
    "        :type coordinate: tuple[int]\n",
    "        :param actions: The actions possible from this coordinate, an action is defined as an action in the coordinate state-space.\n",
    "        :type actions: list[tuple[int]]\n",
    "        \"\"\"\n",
    "\n",
    "        # Determining the number of actions.\n",
    "        n_actions = len(actions)\n",
    "\n",
    "        # According to the ammount of possible actions we can deduce whether the coordinate is a cross node. 1 meaning it a deadend, 3 & 4 cross node/junction node. \n",
    "        # Hoewever, if it's 2 doesn't neccesarily mean it a corner because it can be an edge as well. Thus, we specify if its indeed a corner.\n",
    "        # We do this by checking if the two actions aren't on the same row and that the two actions aren't on the same column.\n",
    "        if n_actions != 2 or (actions[0][0] != actions[1][0] and actions[0][1] != actions[1][1]):\n",
    "            self.adjacency_list[coordinate] = set()\n",
    "        \n",
    "                           \n",
    "    def neighbour_coordinates(self, coordinate):\n",
    "        \"\"\"\n",
    "        This method returns the next possible actions and is part of the breadth-first search algorithm.\n",
    "        Similar to `find_nodes`, we often call this method `next_step`.\n",
    "        \n",
    "        :param coordinate: The current coordinate\n",
    "        :type coordinate: tuple[int]\n",
    "        :return: A list with possible next coordinates that can be visited from the current coordinate.\n",
    "        :rtype: list[tuple[int]]  \n",
    "        \"\"\"\n",
    "    \n",
    "        # Mostly the same function as the flood fill above.\n",
    "\n",
    "        # Getting the indices of the current node.\n",
    "        row, col = coordinate[0], coordinate[1]\n",
    "\n",
    "        # Initializing the te list.\n",
    "        pos_steps = []\n",
    "\n",
    "        # Getting the grid.\n",
    "        grid = map_.grid\n",
    "\n",
    "        # Looping throught every possible direction and checking if they are possible.\n",
    "        for direction in [(row + 1, col), (row, col + 1), (row, col - 1), (row - 1, col)]:\n",
    "            if direction[0] < grid.shape[0] and direction[1] < grid.shape[1] and direction[0] >= 0 and direction[1] >=0 and grid[direction] != 0:\n",
    "                pos_steps.append(direction)\n",
    "            \n",
    "        return pos_steps   \n",
    "    \n",
    "    def __repr__(self):\n",
    "        \"\"\"\n",
    "        This returns a representation of a graph.\n",
    "\n",
    "        :return: A string representing the graph object.\n",
    "        :rtype: str\n",
    "        \"\"\"\n",
    "        # You can change this to anything you like, such that you can easily print a Graph object. An example is already given.\n",
    "        return repr(dict(sorted(self.adjacency_list.items()))).replace(\"},\", \"},\\n\")\n",
    "\n",
    "    def __getitem__(self, key):\n",
    "        \"\"\"\n",
    "        A magic method that makes using keys possible.\n",
    "        This makes it possible to use self[node] instead of self.adjacency_list[node]\n",
    "\n",
    "        :return: The nodes that can be reached from the node `key`.\n",
    "        :rtype: set[tuple[int]]\n",
    "        \"\"\"\n",
    "        return self.adjacency_list[key]\n",
    "\n",
    "    def __contains__(self, key):\n",
    "        \"\"\"\n",
    "        This magic method makes it possible to check if a coordinate is in the graph.\n",
    "\n",
    "        :return: This returns if the coordinate is in the graph.\n",
    "        :rtype: bool\n",
    "        \"\"\"\n",
    "        return key in self.adjacency_list\n",
    "\n",
    "    def get_random_node(self):\n",
    "        \"\"\"\n",
    "        This returns a random node from the graph.\n",
    "        \n",
    "        :return: A random node\n",
    "        :rtype: tuple[int]\n",
    "        \"\"\"\n",
    "        return tuple(RNG.choice(list(self.adjacency_list)))\n",
    "        \n",
    "    def show_coordinates(self, size=5, color='k'):\n",
    "        \"\"\"\n",
    "        If this method is used before another method that does a plot, it will be plotted on top.\n",
    "\n",
    "        :param size: The size of the dots, default to 5\n",
    "        :type size: int\n",
    "        :param color: The Matplotlib color of the dots, defaults to black\n",
    "        :type color: string\n",
    "        \"\"\"\n",
    "        nodes = self.adjacency_list.keys()\n",
    "        plt.plot([n[1] for n in nodes], [n[0] for n in nodes], 'o', color=color, markersize=size)        \n",
    "\n",
    "    def show_edges(self, width=0.05, color='r'):\n",
    "        \"\"\"\n",
    "        If this method is used before another method that does a plot, it will be plotted on top.\n",
    "        \n",
    "        :param width: The width of the arrows, default to 0.05\n",
    "        :type width: float\n",
    "        :param color: The Matplotlib color of the arrows, defaults to red\n",
    "        :type color: string\n",
    "        \"\"\"\n",
    "        for node, edge_list in self.adjacency_list.items():\n",
    "            for next_node,_,_ in edge_list:\n",
    "                plt.arrow(node[1], node[0], (next_node[1] - node[1])*0.975, (next_node[0] - node[0])*0.975, color=color, length_includes_head=True, width=width, head_width=4*width)\n"
   ]
  },
  {
   "cell_type": "markdown",
   "id": "77bfc34d-d19a-43d9-81df-8e7a3fd22a28",
   "metadata": {
    "editable": false,
    "slideshow": {
     "slide_type": ""
    },
    "tags": []
   },
   "source": [
    "### Test your code\n",
    "\n",
    "Below, you can test your algorithm. Make sure that you test various road grids and that your algorithm works for all of them. To give you a head start a very limited test is given."
   ]
  },
  {
   "cell_type": "code",
   "execution_count": 387,
   "id": "5ae8f705-f106-4798-a6ea-a4e9c8682ca4",
   "metadata": {},
   "outputs": [],
   "source": [
    "# If you put the map generated in a separate cell you can run multiple tests on the same map\n",
    "map_ = Map(3, (1,4))"
   ]
  },
  {
   "cell_type": "code",
   "execution_count": 388,
   "id": "cb66240b-b273-44d9-851c-039f8bdc8b82",
   "metadata": {},
   "outputs": [
    {
     "name": "stdout",
     "output_type": "stream",
     "text": [
      "(0, 0) {((3, 0), 3, 50), ((0, 3), 3, 50)}\n",
      "(3, 0) {((7, 0), 4, 50), ((0, 0), 3, 50), ((3, 3), 3, 15)}\n",
      "(0, 3) {((0, 0), 3, 50), ((3, 3), 3, 15), ((0, 5), 2, 50)}\n",
      "(0, 5) {((3, 5), 3, 15), ((0, 3), 2, 50), ((0, 8), 3, 50)}\n",
      "(3, 3) {((3, 5), 2, 15), ((0, 3), 3, 15), ((3, 0), 3, 15)}\n",
      "(7, 0) {((9, 0), 2, 50), ((3, 0), 4, 50), ((7, 5), 5, 30)}\n",
      "(3, 5) {((3, 8), 3, 15), ((3, 3), 2, 15), ((0, 5), 3, 15)}\n",
      "(0, 8) {((0, 5), 3, 50), ((0, 10), 2, 50), ((3, 8), 3, 30)}\n",
      "(9, 0) {((12, 0), 3, 50), ((7, 0), 2, 50), ((9, 2), 2, 30)}\n",
      "(0, 10) {((0, 8), 2, 50), ((0, 18), 8, 50), ((6, 10), 6, 30)}\n",
      "(9, 2) {((9, 0), 2, 30), ((12, 2), 3, 15), ((9, 6), 4, 30)}\n",
      "(3, 8) {((3, 5), 3, 15), ((5, 8), 2, 30), ((0, 8), 3, 30)}\n",
      "(12, 0) {((9, 0), 3, 50), ((18, 0), 6, 50), ((12, 2), 2, 15)}\n",
      "(7, 5) {((5, 5), 2, 15), ((7, 8), 3, 30), ((7, 0), 5, 30)}\n",
      "(5, 8) {((7, 8), 2, 30), ((3, 8), 2, 30), ((5, 5), 3, 15)}\n",
      "(12, 2) {((12, 0), 2, 15), ((9, 2), 3, 15)}\n",
      "(5, 5) {((5, 8), 3, 15), ((7, 5), 2, 15)}\n",
      "(9, 6) {((9, 8), 2, 30), ((12, 6), 3, 15), ((9, 2), 4, 30)}\n",
      "(7, 8) {((9, 8), 2, 30), ((5, 8), 2, 30), ((7, 5), 3, 30), ((7, 10), 2, 30)}\n",
      "(6, 10) {((0, 10), 6, 30), ((6, 14), 4, 15), ((9, 10), 3, 30)}\n",
      "(9, 8) {((7, 8), 2, 30), ((9, 10), 2, 30), ((9, 6), 2, 30)}\n",
      "(7, 10) {((7, 8), 2, 30), ((9, 10), 2, 30), ((0, 10), 7, 30)}\n",
      "(18, 0) {((18, 2), 2, 15), ((22, 0), 4, 50), ((12, 0), 6, 50)}\n",
      "(12, 6) {((12, 10), 4, 15), ((14, 6), 2, 15), ((9, 6), 3, 15)}\n",
      "(0, 18) {((4, 18), 4, 15), ((0, 10), 8, 50), ((0, 24), 6, 50)}\n",
      "(9, 10) {((9, 8), 2, 30), ((9, 13), 3, 30), ((12, 10), 3, 30), ((7, 10), 2, 30)}\n",
      "(18, 2) {((18, 6), 4, 15), ((14, 2), 4, 15), ((18, 0), 2, 15)}\n",
      "(14, 6) {((12, 6), 2, 15), ((14, 10), 4, 15)}\n",
      "(6, 14) {((4, 14), 2, 15), ((6, 18), 4, 15), ((9, 14), 3, 15), ((6, 10), 4, 15)}\n",
      "(22, 0) {((27, 0), 5, 50), ((18, 0), 4, 50), ((22, 6), 6, 50)}\n",
      "(12, 10) {((14, 10), 2, 30), ((9, 10), 3, 30), ((12, 6), 4, 15)}\n",
      "(9, 13) {((9, 10), 3, 30), ((9, 18), 5, 30), ((13, 13), 4, 30)}\n",
      "(4, 14) {((4, 18), 4, 15), ((6, 14), 2, 15)}\n",
      "(4, 18) {((4, 14), 4, 15), ((6, 18), 2, 15), ((4, 20), 2, 15), ((0, 18), 4, 15)}\n",
      "(13, 10) {((9, 10), 4, 30), ((13, 13), 3, 30), ((18, 10), 5, 30)}\n",
      "(9, 14) {((9, 10), 4, 30), ((9, 18), 4, 30), ((6, 14), 3, 15)}\n",
      "(18, 6) {((22, 6), 4, 15), ((18, 10), 4, 15), ((18, 2), 4, 15)}\n",
      "(14, 2) {((18, 2), 4, 15)}\n",
      "(14, 10) {((14, 6), 4, 15), ((18, 10), 4, 30), ((12, 10), 2, 30)}\n",
      "(6, 18) {((6, 14), 4, 15), ((9, 18), 3, 15), ((4, 18), 2, 15)}\n",
      "(4, 20) {((9, 20), 5, 15), ((4, 18), 2, 15), ((4, 24), 4, 15)}\n",
      "(0, 24) {((4, 24), 4, 50), ((0, 26), 2, 50), ((0, 18), 6, 50)}\n",
      "(13, 13) {((15, 13), 2, 30), ((13, 10), 3, 30), ((13, 15), 2, 30), ((9, 13), 4, 30)}\n",
      "(0, 26) {((0, 24), 2, 50), ((0, 29), 3, 50), ((6, 26), 6, 50)}\n",
      "(27, 0) {((32, 0), 5, 50), ((27, 7), 7, 50), ((22, 0), 5, 50)}\n",
      "(9, 18) {((6, 18), 3, 15), ((9, 14), 4, 30), ((9, 20), 2, 30)}\n",
      "(22, 6) {((22, 0), 6, 50), ((18, 6), 4, 15), ((22, 10), 4, 50)}\n",
      "(18, 10) {((18, 6), 4, 15), ((22, 10), 4, 30), ((14, 10), 4, 30)}\n",
      "(15, 13) {((15, 15), 2, 15), ((13, 13), 2, 30), ((19, 13), 4, 30)}\n",
      "(13, 15) {((15, 15), 2, 15), ((13, 13), 2, 30), ((13, 17), 2, 30)}\n",
      "(4, 24) {((4, 20), 4, 15), ((0, 24), 4, 50), ((9, 24), 5, 50)}\n",
      "(9, 20) {((9, 24), 4, 30), ((9, 18), 2, 30), ((4, 20), 5, 15)}\n",
      "(0, 29) {((2, 29), 2, 15), ((0, 31), 2, 50), ((0, 26), 3, 50)}\n",
      "(15, 15) {((15, 17), 2, 15), ((19, 15), 4, 15), ((15, 13), 2, 15), ((13, 15), 2, 15)}\n",
      "(13, 17) {((15, 17), 2, 15), ((13, 15), 2, 30), ((13, 21), 4, 30)}\n",
      "(2, 29) {((0, 29), 2, 15), ((6, 29), 4, 15), ((2, 31), 2, 15)}\n",
      "(0, 31) {((0, 35), 4, 50), ((2, 31), 2, 15), ((0, 29), 2, 50)}\n",
      "(32, 0) {((32, 4), 4, 30), ((27, 0), 5, 50), ((41, 0), 9, 50)}\n",
      "(22, 10) {((27, 10), 5, 50), ((18, 10), 4, 30), ((22, 13), 3, 50), ((22, 6), 4, 50)}\n",
      "(19, 13) {((19, 15), 2, 15), ((15, 13), 4, 30), ((22, 13), 3, 30)}\n",
      "(15, 17) {((15, 15), 2, 15), ((13, 17), 2, 15)}\n",
      "(6, 26) {((6, 29), 3, 30), ((0, 26), 6, 50), ((10, 26), 4, 50)}\n",
      "(9, 24) {((9, 20), 4, 30), ((4, 24), 5, 50), ((13, 24), 4, 50)}\n",
      "(2, 31) {((2, 35), 4, 15), ((2, 29), 2, 15), ((0, 31), 2, 15)}\n",
      "(27, 7) {((27, 0), 7, 50), ((30, 7), 3, 30), ((27, 9), 2, 50)}\n",
      "(19, 15) {((15, 15), 4, 15), ((22, 15), 3, 15), ((19, 21), 6, 15), ((19, 13), 2, 15)}\n",
      "(13, 21) {((13, 17), 4, 30), ((15, 21), 2, 15), ((13, 24), 3, 30)}\n",
      "(10, 24) {((13, 24), 3, 50), ((10, 26), 2, 50), ((4, 24), 6, 50)}\n",
      "(22, 13) {((19, 13), 3, 30), ((22, 10), 3, 50), ((22, 15), 2, 50)}\n",
      "(6, 29) {((6, 26), 3, 30), ((2, 29), 4, 15), ((6, 33), 4, 30)}\n",
      "(0, 35) {((0, 31), 4, 50), ((2, 35), 2, 15), ((0, 41), 6, 50)}\n",
      "(32, 4) {((32, 0), 4, 30), ((30, 4), 2, 15), ((41, 4), 9, 30), ((32, 7), 3, 30)}\n",
      "(27, 9) {((27, 7), 2, 50), ((27, 12), 3, 50), ((31, 9), 4, 30)}\n",
      "(15, 21) {((13, 21), 2, 15), ((19, 21), 4, 15), ((15, 24), 3, 15)}\n",
      "(10, 26) {((10, 24), 2, 50), ((6, 26), 4, 50), ((13, 26), 3, 50)}\n",
      "(30, 7) {((30, 4), 3, 15), ((27, 7), 3, 30), ((32, 7), 2, 30)}\n",
      "(27, 10) {((27, 12), 2, 50), ((27, 7), 3, 50), ((22, 10), 5, 50)}\n",
      "(22, 15) {((19, 15), 3, 15), ((22, 21), 6, 50), ((22, 13), 2, 50)}\n",
      "(13, 24) {((10, 24), 3, 50), ((15, 24), 2, 50), ((13, 21), 3, 30)}\n",
      "(2, 35) {((2, 31), 4, 15), ((0, 35), 2, 15), ((2, 38), 3, 15), ((6, 35), 4, 15)}\n",
      "(30, 4) {((30, 7), 3, 15), ((32, 4), 2, 15)}\n",
      "(32, 7) {((41, 7), 9, 30), ((32, 9), 2, 30), ((30, 7), 2, 30), ((32, 4), 3, 30)}\n",
      "(27, 12) {((27, 10), 2, 50), ((27, 15), 3, 50), ((31, 12), 4, 15)}\n",
      "(15, 24) {((19, 24), 4, 50), ((13, 24), 2, 50), ((15, 21), 3, 15)}\n",
      "(13, 26) {((10, 26), 3, 50), ((13, 33), 7, 30), ((16, 26), 3, 50)}\n",
      "(6, 33) {((6, 29), 4, 30), ((6, 35), 2, 30), ((13, 33), 7, 30)}\n",
      "(31, 9) {((27, 9), 4, 30), ((31, 12), 3, 15), ((33, 9), 2, 30)}\n",
      "(19, 21) {((15, 21), 4, 15), ((19, 24), 3, 15), ((19, 15), 6, 15)}\n",
      "(2, 38) {((2, 35), 3, 15), ((2, 41), 3, 15), ((6, 38), 4, 15)}\n",
      "(41, 0) {((46, 0), 5, 50), ((32, 0), 9, 50), ((41, 4), 4, 30)}\n",
      "(32, 9) {((36, 9), 4, 30), ((27, 9), 5, 30), ((32, 7), 2, 30)}\n",
      "(6, 35) {((6, 33), 2, 30), ((2, 35), 4, 15), ((6, 38), 3, 30)}\n",
      "(0, 41) {((0, 43), 2, 50), ((0, 35), 6, 50), ((2, 41), 2, 30)}\n",
      "(33, 9) {((36, 9), 3, 30), ((31, 9), 2, 30), ((33, 12), 3, 15)}\n",
      "(27, 15) {((27, 18), 3, 50), ((27, 12), 3, 50), ((31, 15), 4, 15)}\n",
      "(16, 26) {((16, 29), 3, 30), ((19, 26), 3, 50), ((13, 26), 3, 50)}\n",
      "(31, 12) {((31, 15), 3, 15), ((33, 12), 2, 15), ((31, 9), 3, 15), ((27, 12), 4, 15)}\n",
      "(22, 21) {((27, 21), 5, 50), ((22, 15), 6, 50), ((22, 24), 3, 50)}\n",
      "(19, 24) {((19, 21), 3, 15), ((15, 24), 4, 50), ((22, 24), 3, 50)}\n",
      "(2, 41) {((6, 41), 4, 30), ((0, 41), 2, 30), ((2, 38), 3, 15)}\n",
      "(0, 43) {((0, 41), 2, 50), ((0, 47), 4, 50), ((4, 43), 4, 30)}\n",
      "(6, 38) {((6, 35), 3, 30), ((2, 38), 4, 15), ((6, 41), 3, 30)}\n",
      "(41, 4) {((41, 7), 3, 30), ((41, 0), 4, 30), ((46, 4), 5, 30), ((32, 4), 9, 30)}\n",
      "(36, 9) {((33, 9), 3, 30), ((39, 9), 3, 30), ((36, 12), 3, 15)}\n",
      "(33, 12) {((31, 12), 2, 15), ((36, 12), 3, 15), ((33, 15), 3, 15), ((33, 9), 3, 15)}\n",
      "(27, 18) {((27, 21), 3, 50), ((31, 18), 4, 15), ((27, 15), 3, 50)}\n",
      "(19, 26) {((21, 26), 2, 50), ((19, 29), 3, 15), ((16, 26), 3, 50)}\n",
      "(16, 29) {((19, 29), 3, 15), ((16, 26), 3, 30), ((16, 31), 2, 30)}\n",
      "(46, 0) {((41, 0), 5, 50), ((46, 2), 2, 30), ((48, 0), 2, 50)}\n",
      "(31, 15) {((33, 15), 2, 15), ((31, 18), 3, 15), ((27, 15), 4, 15), ((31, 12), 3, 15)}\n",
      "(22, 24) {((27, 24), 5, 50), ((22, 21), 3, 50), ((22, 26), 2, 50), ((19, 24), 3, 50)}\n",
      "(13, 33) {((6, 33), 7, 30), ((13, 41), 8, 30), ((16, 33), 3, 30), ((13, 26), 7, 30)}\n",
      "(21, 26) {((25, 26), 4, 50), ((19, 26), 2, 50), ((21, 29), 3, 15)}\n",
      "(16, 31) {((16, 33), 2, 30), ((16, 29), 2, 30), ((19, 31), 3, 15)}\n",
      "(6, 41) {((6, 43), 2, 30), ((13, 41), 7, 30), ((2, 41), 4, 30), ((6, 38), 3, 30)}\n",
      "(4, 43) {((6, 43), 2, 30), ((0, 43), 4, 30), ((4, 47), 4, 15)}\n",
      "(0, 47) {((0, 43), 4, 50), ((4, 47), 4, 15), ((0, 51), 4, 50)}\n",
      "(48, 0) {((46, 0), 2, 50), ((48, 2), 2, 15), ((51, 0), 3, 50)}\n",
      "(46, 2) {((48, 2), 2, 15), ((46, 0), 2, 30), ((46, 4), 2, 30)}\n",
      "(41, 7) {((32, 7), 9, 30), ((46, 7), 5, 30), ((41, 4), 3, 30), ((41, 9), 2, 30)}\n",
      "(39, 9) {((36, 9), 3, 30), ((39, 12), 3, 15), ((41, 9), 2, 30)}\n",
      "(36, 12) {((39, 12), 3, 15), ((36, 9), 3, 15), ((33, 12), 3, 15)}\n",
      "(33, 15) {((31, 15), 2, 15), ((33, 18), 3, 15), ((36, 15), 3, 15), ((33, 12), 3, 15)}\n",
      "(27, 21) {((27, 18), 3, 50), ((27, 24), 3, 50), ((22, 21), 5, 50), ((31, 21), 4, 50)}\n",
      "(22, 26) {((25, 26), 3, 50), ((22, 24), 2, 50), ((19, 26), 3, 50)}\n",
      "(19, 29) {((19, 26), 3, 15), ((16, 29), 3, 15), ((19, 31), 2, 15)}\n",
      "(31, 18) {((31, 15), 3, 15), ((27, 18), 4, 15), ((31, 21), 3, 15), ((33, 18), 2, 15)}\n",
      "(16, 33) {((21, 33), 5, 30), ((16, 31), 2, 30), ((13, 33), 3, 30)}\n",
      "(6, 43) {((4, 43), 2, 30), ((6, 41), 2, 30), ((8, 43), 2, 30)}\n",
      "(48, 2) {((48, 0), 2, 15), ((46, 2), 2, 15), ((48, 4), 2, 15)}\n",
      "(46, 4) {((41, 4), 5, 30), ((46, 2), 2, 30), ((48, 4), 2, 30), ((46, 7), 3, 30)}\n",
      "(41, 9) {((41, 12), 3, 30), ((41, 7), 2, 30), ((39, 9), 2, 30)}\n",
      "(21, 29) {((21, 31), 2, 15), ((25, 29), 4, 15), ((21, 26), 3, 15)}\n",
      "(19, 31) {((21, 31), 2, 15), ((16, 31), 3, 15), ((19, 29), 2, 15)}\n",
      "(51, 0) {((53, 0), 2, 50), ((48, 0), 3, 50), ((51, 2), 2, 15)}\n",
      "(39, 12) {((36, 12), 3, 15), ((39, 18), 6, 15), ((39, 9), 3, 15), ((41, 12), 2, 15)}\n",
      "(36, 15) {((33, 15), 3, 15), ((36, 18), 3, 15)}\n",
      "(33, 18) {((33, 15), 3, 15), ((33, 21), 3, 15), ((31, 18), 2, 15)}\n",
      "(27, 24) {((27, 21), 3, 50), ((27, 26), 2, 50), ((22, 24), 5, 50), ((39, 24), 12, 50)}\n",
      "(25, 26) {((25, 29), 3, 15), ((27, 26), 2, 50), ((22, 26), 3, 50)}\n",
      "(8, 43) {((6, 43), 2, 30), ((13, 43), 5, 30), ((8, 47), 4, 15)}\n",
      "(4, 47) {((4, 51), 4, 15), ((4, 43), 4, 15), ((0, 47), 4, 15)}\n",
      "(0, 51) {((4, 51), 4, 50), ((0, 47), 4, 50)}\n",
      "(48, 4) {((56, 4), 8, 30), ((46, 4), 2, 30), ((48, 2), 2, 15)}\n",
      "(31, 21) {((31, 18), 3, 15), ((33, 21), 2, 50), ((27, 21), 4, 50)}\n",
      "(21, 31) {((19, 31), 2, 15), ((21, 29), 2, 15), ((25, 31), 4, 15), ((21, 33), 2, 15)}\n",
      "(53, 0) {((56, 0), 3, 50), ((51, 0), 2, 50), ((53, 2), 2, 15)}\n",
      "(51, 2) {((51, 0), 2, 15), ((53, 2), 2, 15)}\n",
      "(46, 7) {((56, 7), 10, 30), ((46, 4), 3, 30), ((41, 7), 5, 30), ((46, 9), 2, 30)}\n",
      "(41, 12) {((41, 18), 6, 30), ((41, 9), 3, 30), ((39, 12), 2, 15)}\n",
      "(27, 26) {((25, 26), 2, 50), ((27, 24), 2, 50), ((27, 29), 3, 50)}\n",
      "(36, 18) {((39, 18), 3, 15), ((36, 21), 3, 15), ((36, 15), 3, 15)}\n",
      "(33, 21) {((31, 21), 2, 50), ((33, 18), 3, 15), ((36, 21), 3, 50)}\n",
      "(25, 29) {((25, 31), 2, 15), ((27, 29), 2, 15), ((21, 29), 4, 15), ((25, 26), 3, 15)}\n",
      "(21, 33) {((21, 31), 2, 15), ((16, 33), 5, 30), ((27, 33), 6, 30)}\n",
      "(13, 41) {((6, 41), 7, 30), ((27, 41), 14, 30), ((13, 33), 8, 30), ((13, 43), 2, 30)}\n",
      "(53, 2) {((51, 2), 2, 15), ((53, 0), 2, 15), ((56, 2), 3, 15)}\n",
      "(46, 9) {((49, 9), 3, 30), ((46, 7), 2, 30), ((43, 9), 3, 30)}\n",
      "(8, 47) {((11, 47), 3, 15), ((8, 43), 4, 15), ((8, 51), 4, 15)}\n",
      "(4, 51) {((8, 51), 4, 50), ((4, 47), 4, 15), ((0, 51), 4, 50)}\n",
      "(56, 0) {((53, 0), 3, 50), ((56, 2), 2, 50)}\n",
      "(27, 29) {((27, 31), 2, 50), ((25, 29), 2, 15), ((27, 26), 3, 50), ((29, 29), 2, 50)}\n",
      "(25, 31) {((25, 29), 2, 15), ((27, 31), 2, 15), ((21, 31), 4, 15)}\n",
      "(13, 43) {((13, 41), 2, 30), ((8, 43), 5, 30), ((13, 47), 4, 30)}\n",
      "(39, 18) {((36, 18), 3, 15), ((41, 18), 2, 15), ((39, 12), 6, 15), ((39, 21), 3, 15)}\n",
      "(36, 21) {((36, 18), 3, 15), ((33, 21), 3, 50), ((39, 21), 3, 50)}\n",
      "(56, 2) {((56, 4), 2, 50), ((56, 0), 2, 50), ((53, 2), 3, 15)}\n",
      "(49, 9) {((49, 12), 3, 15), ((46, 9), 3, 30), ((56, 9), 7, 30)}\n",
      "(43, 9) {((46, 9), 3, 30), ((43, 12), 3, 30)}\n",
      "(29, 29) {((31, 29), 2, 50), ((27, 29), 2, 50), ((29, 32), 3, 50)}\n",
      "(27, 31) {((25, 31), 2, 15), ((27, 29), 2, 50), ((27, 33), 2, 50)}\n",
      "(11, 47) {((8, 47), 3, 15), ((13, 47), 2, 15), ((11, 51), 4, 15)}\n",
      "(41, 18) {((41, 12), 6, 30), ((39, 18), 2, 15), ((41, 21), 3, 30)}\n",
      "(8, 51) {((8, 47), 4, 15), ((11, 51), 3, 50), ((4, 51), 4, 50)}\n",
      "(56, 4) {((56, 2), 2, 50), ((56, 7), 3, 50), ((48, 4), 8, 30)}\n",
      "(39, 21) {((36, 21), 3, 50), ((39, 18), 3, 15), ((39, 24), 3, 50), ((41, 21), 2, 50)}\n",
      "(31, 29) {((38, 29), 7, 50), ((31, 32), 3, 15), ((29, 29), 2, 50)}\n",
      "(27, 33) {((27, 31), 2, 50), ((21, 33), 6, 30), ((27, 39), 6, 50)}\n",
      "(13, 47) {((11, 47), 2, 15), ((13, 43), 4, 30), ((13, 51), 4, 30)}\n",
      "(49, 12) {((49, 14), 2, 15), ((56, 12), 7, 15), ((49, 9), 3, 15), ((45, 12), 4, 15)}\n",
      "(43, 12) {((45, 12), 2, 15), ((43, 14), 2, 30), ((43, 9), 3, 30)}\n",
      "(29, 32) {((31, 32), 2, 15), ((29, 29), 3, 50), ((29, 34), 2, 50)}\n",
      "(41, 21) {((41, 18), 3, 30), ((39, 21), 2, 50), ((43, 21), 2, 50)}\n",
      "(11, 51) {((13, 51), 2, 50), ((11, 47), 4, 15), ((8, 51), 3, 50)}\n",
      "(56, 7) {((46, 7), 10, 30), ((56, 9), 2, 50), ((56, 4), 3, 50)}\n",
      "(49, 14) {((49, 12), 2, 15), ((45, 14), 4, 15), ((49, 17), 3, 15)}\n",
      "(45, 12) {((43, 12), 2, 15), ((49, 12), 4, 15), ((45, 14), 2, 15)}\n",
      "(43, 14) {((43, 17), 3, 30), ((43, 12), 2, 30), ((45, 14), 2, 15)}\n",
      "(39, 24) {((56, 24), 17, 50), ((27, 24), 12, 50), ((39, 21), 3, 50), ((39, 29), 5, 50)}\n",
      "(31, 32) {((31, 34), 2, 15), ((31, 29), 3, 15), ((29, 32), 2, 15)}\n",
      "(29, 34) {((29, 39), 5, 50), ((29, 32), 2, 50), ((31, 34), 2, 30)}\n",
      "(43, 21) {((43, 17), 4, 30), ((41, 21), 2, 50), ((45, 21), 2, 50)}\n",
      "(13, 51) {((15, 51), 2, 50), ((11, 51), 2, 50), ((13, 47), 4, 30)}\n",
      "(56, 9) {((56, 12), 3, 50), ((56, 7), 2, 50), ((49, 9), 7, 30)}\n",
      "(45, 14) {((45, 17), 3, 15), ((43, 14), 2, 15), ((45, 12), 2, 15), ((49, 14), 4, 15)}\n",
      "(31, 34) {((31, 32), 2, 15), ((29, 34), 2, 30), ((34, 34), 3, 30)}\n",
      "(49, 17) {((49, 14), 3, 15), ((53, 17), 4, 15), ((49, 21), 4, 15)}\n",
      "(43, 17) {((43, 14), 3, 30), ((45, 17), 2, 15), ((43, 21), 4, 30)}\n",
      "(45, 21) {((45, 17), 4, 15), ((43, 21), 2, 50), ((49, 21), 4, 50)}\n",
      "(27, 39) {((29, 39), 2, 50), ((27, 33), 6, 50), ((27, 41), 2, 50)}\n",
      "(15, 51) {((15, 49), 2, 30), ((13, 51), 2, 50), ((18, 51), 3, 50)}\n",
      "(38, 29) {((40, 29), 2, 50), ((31, 29), 7, 50), ((38, 32), 3, 30)}\n",
      "(56, 12) {((56, 14), 2, 50), ((49, 12), 7, 15), ((56, 9), 3, 50)}\n",
      "(45, 17) {((43, 17), 2, 15), ((45, 14), 3, 15), ((45, 21), 4, 15)}\n",
      "(39, 29) {((31, 29), 8, 50), ((39, 24), 5, 50), ((43, 29), 4, 50)}\n",
      "(34, 34) {((38, 34), 4, 30), ((31, 34), 3, 30), ((34, 32), 2, 15)}\n",
      "(29, 39) {((27, 39), 2, 50), ((29, 48), 9, 50), ((29, 34), 5, 50)}\n",
      "(27, 41) {((27, 44), 3, 50), ((27, 39), 2, 50), ((13, 41), 14, 30)}\n",
      "(15, 49) {((18, 49), 3, 15), ((15, 51), 2, 30), ((15, 47), 2, 30)}\n",
      "(40, 29) {((38, 29), 2, 50), ((43, 29), 3, 50), ((40, 33), 4, 30)}\n",
      "(29, 40) {((29, 34), 6, 50), ((29, 48), 8, 50), ((32, 40), 3, 30)}\n",
      "(18, 51) {((18, 49), 2, 15), ((20, 51), 2, 50), ((15, 51), 3, 50)}\n",
      "(56, 14) {((53, 14), 3, 15), ((56, 12), 2, 50), ((56, 21), 7, 50)}\n",
      "(53, 17) {((53, 14), 3, 15), ((49, 17), 4, 15)}\n",
      "(49, 21) {((45, 21), 4, 50), ((49, 17), 4, 15), ((56, 21), 7, 50)}\n",
      "(38, 32) {((38, 34), 2, 30), ((34, 32), 4, 15), ((38, 29), 3, 30)}\n",
      "(34, 32) {((38, 32), 4, 15), ((34, 34), 2, 15)}\n",
      "(15, 47) {((18, 47), 3, 15), ((15, 44), 3, 30), ((15, 49), 2, 30)}\n",
      "(27, 44) {((23, 44), 4, 30), ((27, 41), 3, 50), ((27, 47), 3, 50)}\n",
      "(20, 51) {((18, 51), 2, 50), ((20, 49), 2, 15), ((23, 51), 3, 50)}\n",
      "(18, 49) {((18, 51), 2, 15), ((15, 49), 3, 15), ((20, 49), 2, 15), ((18, 47), 2, 15)}\n",
      "(43, 29) {((40, 29), 3, 50), ((43, 33), 4, 15), ((47, 29), 4, 50)}\n",
      "(38, 34) {((38, 40), 6, 30), ((40, 34), 2, 30), ((34, 34), 4, 30), ((38, 32), 2, 30)}\n",
      "(32, 40) {((38, 40), 6, 30), ((29, 40), 3, 30), ((32, 46), 6, 15)}\n",
      "(53, 14) {((53, 17), 3, 15), ((56, 14), 3, 15)}\n",
      "(40, 33) {((43, 33), 3, 15), ((40, 29), 4, 30), ((40, 36), 3, 30)}\n",
      "(20, 49) {((20, 51), 2, 15), ((18, 49), 2, 15)}\n",
      "(18, 47) {((18, 49), 2, 15), ((18, 44), 3, 15), ((15, 47), 3, 15)}\n",
      "(15, 44) {((18, 44), 3, 30), ((15, 47), 3, 30)}\n",
      "(40, 34) {((40, 36), 2, 30), ((38, 34), 2, 30), ((40, 29), 5, 30)}\n",
      "(27, 47) {((27, 44), 3, 50), ((27, 49), 2, 50), ((25, 47), 2, 15)}\n",
      "(23, 51) {((25, 51), 2, 50), ((23, 49), 2, 15), ((20, 51), 3, 50)}\n",
      "(23, 44) {((27, 44), 4, 30), ((23, 49), 5, 15), ((18, 44), 5, 30)}\n",
      "(47, 29) {((47, 33), 4, 15), ((52, 29), 5, 50), ((43, 29), 4, 50)}\n",
      "(43, 33) {((47, 33), 4, 15), ((40, 33), 3, 15), ((43, 29), 4, 15), ((43, 36), 3, 15)}\n",
      "(40, 36) {((43, 36), 3, 30), ((40, 34), 2, 30)}\n",
      "(27, 49) {((25, 49), 2, 15), ((27, 47), 2, 50), ((27, 51), 2, 50)}\n",
      "(25, 47) {((27, 47), 2, 15)}\n",
      "(25, 51) {((23, 51), 2, 50), ((25, 49), 2, 15), ((27, 51), 2, 50)}\n",
      "(23, 49) {((23, 51), 2, 15), ((25, 49), 2, 15), ((23, 44), 5, 15)}\n",
      "(18, 44) {((18, 47), 3, 15), ((23, 44), 5, 30), ((15, 44), 3, 30)}\n",
      "(56, 21) {((49, 21), 7, 50), ((56, 24), 3, 50), ((56, 14), 7, 50)}\n",
      "(29, 48) {((29, 40), 8, 50), ((29, 51), 3, 50), ((32, 48), 3, 15)}\n",
      "(38, 40) {((38, 34), 6, 30), ((38, 44), 4, 15), ((40, 40), 2, 30), ((32, 40), 6, 30)}\n",
      "(32, 46) {((32, 40), 6, 15), ((32, 48), 2, 15), ((36, 46), 4, 15)}\n",
      "(27, 51) {((29, 51), 2, 50), ((27, 49), 2, 50), ((25, 51), 2, 50)}\n",
      "(25, 49) {((25, 51), 2, 15), ((27, 49), 2, 15), ((23, 49), 2, 15)}\n",
      "(43, 36) {((43, 33), 3, 15), ((46, 36), 3, 30), ((40, 36), 3, 30)}\n",
      "(56, 24) {((56, 21), 3, 50), ((39, 24), 17, 50), ((56, 29), 5, 50)}\n",
      "(47, 33) {((47, 36), 3, 15), ((43, 33), 4, 15), ((47, 29), 4, 15)}\n",
      "(40, 40) {((40, 44), 4, 15), ((42, 40), 2, 30), ((38, 40), 2, 30)}\n",
      "(32, 48) {((32, 51), 3, 15), ((36, 48), 4, 15), ((32, 46), 2, 15), ((29, 48), 3, 15)}\n",
      "(29, 51) {((32, 51), 3, 50), ((29, 48), 3, 50), ((27, 51), 2, 50)}\n",
      "(52, 29) {((47, 29), 5, 50), ((56, 29), 4, 50), ((52, 33), 4, 15)}\n",
      "(46, 36) {((46, 38), 2, 30), ((49, 36), 3, 30), ((43, 36), 3, 30)}\n",
      "(42, 40) {((40, 40), 2, 30), ((42, 44), 4, 30)}\n",
      "(38, 44) {((40, 44), 2, 15), ((38, 46), 2, 15), ((36, 44), 2, 15), ((38, 40), 4, 15)}\n",
      "(36, 46) {((36, 44), 2, 15), ((38, 46), 2, 15), ((36, 48), 2, 15), ((32, 46), 4, 15)}\n",
      "(47, 36) {((43, 36), 4, 30), ((47, 33), 3, 15), ((49, 36), 2, 30)}\n",
      "(32, 51) {((36, 51), 4, 50), ((29, 51), 3, 50), ((32, 48), 3, 15)}\n",
      "(46, 38) {((48, 38), 2, 30), ((46, 42), 4, 30), ((46, 36), 2, 30)}\n",
      "(40, 44) {((40, 46), 2, 15), ((42, 44), 2, 15), ((38, 44), 2, 15), ((40, 40), 4, 15)}\n",
      "(38, 46) {((40, 46), 2, 15), ((38, 44), 2, 15), ((38, 48), 2, 15), ((36, 46), 2, 15)}\n",
      "(36, 44) {((38, 44), 2, 15), ((36, 46), 2, 15)}\n",
      "(36, 48) {((32, 48), 4, 15), ((36, 51), 3, 15), ((38, 48), 2, 15), ((36, 46), 2, 15)}\n",
      "(56, 29) {((52, 29), 4, 50), ((56, 36), 7, 50), ((56, 24), 5, 50)}\n",
      "(52, 33) {((52, 36), 3, 15), ((49, 33), 3, 15), ((52, 29), 4, 15)}\n",
      "(49, 36) {((52, 36), 3, 30), ((49, 33), 3, 15), ((47, 36), 2, 30)}\n",
      "(48, 38) {((46, 38), 2, 30), ((51, 38), 3, 30), ((48, 42), 4, 15)}\n",
      "(42, 44) {((42, 48), 4, 30), ((40, 44), 2, 15), ((42, 40), 4, 30)}\n",
      "(40, 46) {((40, 48), 2, 15), ((40, 44), 2, 15), ((38, 46), 2, 15)}\n",
      "(38, 48) {((40, 48), 2, 15), ((38, 46), 2, 15), ((36, 48), 2, 15)}\n",
      "(36, 51) {((40, 51), 4, 50), ((32, 51), 4, 50), ((36, 48), 3, 15)}\n",
      "(52, 36) {((52, 33), 3, 15), ((49, 36), 3, 30), ((56, 36), 4, 30)}\n",
      "(49, 33) {((52, 33), 3, 15), ((49, 36), 3, 15)}\n",
      "(46, 42) {((48, 42), 2, 15), ((46, 51), 9, 30), ((46, 38), 4, 30)}\n",
      "(40, 48) {((40, 46), 2, 15), ((40, 51), 3, 15), ((38, 48), 2, 15), ((42, 48), 2, 15)}\n",
      "(51, 38) {((48, 38), 3, 30), ((54, 38), 3, 30), ((51, 42), 4, 15)}\n",
      "(48, 42) {((46, 42), 2, 15), ((51, 42), 3, 15), ((48, 38), 4, 15)}\n",
      "(42, 48) {((42, 51), 3, 30), ((40, 48), 2, 15), ((42, 44), 4, 30)}\n",
      "(40, 51) {((36, 51), 4, 50), ((42, 51), 2, 50), ((40, 48), 3, 15)}\n",
      "(56, 36) {((56, 29), 7, 50), ((56, 38), 2, 50), ((52, 36), 4, 30)}\n",
      "(54, 38) {((56, 38), 2, 30), ((51, 38), 3, 30), ((54, 42), 4, 15)}\n",
      "(51, 42) {((54, 42), 3, 15), ((51, 45), 3, 15), ((51, 38), 4, 15), ((48, 42), 3, 15)}\n",
      "(42, 51) {((46, 51), 4, 50), ((40, 51), 2, 50), ((42, 48), 3, 30)}\n",
      "(56, 38) {((56, 36), 2, 50), ((56, 42), 4, 50), ((54, 38), 2, 30)}\n",
      "(54, 42) {((51, 42), 3, 15), ((56, 42), 2, 15), ((54, 38), 4, 15), ((54, 45), 3, 15)}\n",
      "(51, 45) {((51, 47), 2, 15), ((48, 45), 3, 15), ((51, 42), 3, 15), ((54, 45), 3, 15)}\n",
      "(46, 51) {((42, 51), 4, 50), ((46, 42), 9, 30), ((48, 51), 2, 50)}\n",
      "(56, 42) {((56, 38), 4, 50), ((56, 47), 5, 50), ((54, 42), 2, 15)}\n",
      "(51, 47) {((51, 45), 2, 15), ((48, 47), 3, 15), ((54, 47), 3, 15), ((51, 51), 4, 15)}\n",
      "(54, 45) {((54, 42), 3, 15), ((54, 47), 2, 15), ((51, 45), 3, 15)}\n",
      "(48, 45) {((51, 45), 3, 15), ((48, 47), 2, 15)}\n",
      "(48, 51) {((48, 47), 4, 15), ((46, 51), 2, 50), ((51, 51), 3, 50)}\n",
      "(54, 47) {((56, 47), 2, 15), ((54, 45), 2, 15), ((51, 47), 3, 15)}\n",
      "(48, 47) {((48, 51), 4, 15), ((48, 45), 2, 15), ((51, 47), 3, 15)}\n",
      "(51, 51) {((48, 51), 3, 50), ((56, 51), 5, 50), ((51, 47), 4, 15)}\n",
      "(56, 47) {((56, 51), 4, 50), ((54, 47), 2, 15), ((56, 42), 5, 50)}\n",
      "(56, 51) {((56, 47), 4, 50), ((51, 51), 5, 50)}\n"
     ]
    },
    {
     "data": {
      "image/png": "[encoded data removed]",
      "text/plain": [
       "<Figure size 1800x600 with 2 Axes>"
      ]
     },
     "metadata": {},
     "output_type": "display_data"
    }
   ],
   "source": [
    "plt.matplotlib.rcParams['figure.dpi'] = max(30, map_.size ** 0.5 // 2)  # Number of pixels, therefore, the quality of the image. A large dpi is very slow.\n",
    "\n",
    "graph = Graph(map_)\n",
    "graph.show_coordinates(size=30, color=\"k\")\n",
    "map_.show()"
   ]
  },
  {
   "cell_type": "markdown",
   "id": "27a8f51c-30d6-450f-9d26-fcf2d36f44ea",
   "metadata": {
    "editable": false,
    "slideshow": {
     "slide_type": ""
    },
    "tags": []
   },
   "source": [
    "### 1.1.1 Making a Graph from a Map\n",
    "\n",
    "To represent the graph we use an adjacency list, however, for the edges, we do not only store the connecting node but also the distance and speed limit. For now, we do not need the speed limit. Each coordinate has a length 1 and the speed limit is the integer in the grid. So, a piece of road between two nodes, i.e, the edge between two nodes has a distance equal to the number of coordinates between the nodes and the speed limit is the mode of all the speed limits of the coordinates. You can assume that the speed limit does not change for one road section. Only at the nodes itself can the speed limit change.\n",
    "\n",
    "So given the map below:\n",
    "\n",
    "```python\n",
    "road_grid = np.array([\n",
    "    [30, 30, 30, 30, 30, 30, 30, 30, 30, 30, 30, 30, 30],\n",
    "    [30,  0,  0,  0,  0, 15,  0,  0, 15,  0,  0,  0, 30],\n",
    "    [30,  0,  0,  0,  0, 15,  0,  0, 15,  0,  0,  0, 30],\n",
    "    [30,  0,  0,  0,  0, 15,  0,  0, 15,  0,  0,  0, 30],\n",
    "    [30, 15, 15, 15, 15, 15, 15, 15, 15, 15, 15, 15, 30],\n",
    "    [30,  0,  0,  0,  0, 15,  0,  0, 15,  0,  0,  0, 30],\n",
    "    [30,  0,  0,  0,  0, 15,  0,  0, 15,  0,  0,  0, 30],\n",
    "    [30,  0,  0,  0,  0, 15,  0,  0, 15,  0,  0,  0, 30],\n",
    "    [30, 30, 30, 30, 30, 30, 30, 30, 30, 30, 30, 30, 30]\n",
    "])\n",
    "```\n",
    "\n",
    "We get the following adjacency list:\n",
    "\n",
    "```python\n",
    "adjacency_list = {\n",
    "    (0,  0): {((0,5), 5, 30),  ((4,0), 4, 30)},\n",
    "    (0,  5): {((0,0), 5, 30),  ((0,8), 3, 30),  ((4,5), 4, 15)},\n",
    "    (0,  8): {((0,5), 3, 30),  ((0,12), 4, 30), ((4,8), 4, 15)},\n",
    "    (0, 12): {((0,8), 4, 30),  ((4,12), 4, 30)},\n",
    "    (4,  0): {((0,0), 4, 30),  ((4,5), 5, 15),  ((8,0), 4, 30)},\n",
    "    (4,  5): {((0,5), 4, 15),  ((4,8), 3, 15),  ((8,5), 4, 15),  ((4,0), 5, 15)},\n",
    "    (4,  8): {((0,8), 4, 15),  ((4,12), 4, 15), ((8,8), 4, 15),  ((4,5), 3, 15)},\n",
    "    (4, 12): {((0,12), 4, 30), ((8,12), 4, 30), ((4,8), 4, 15)},\n",
    "    (8,  0): {((8,5), 5, 30),  ((4,0), 4, 30)},\n",
    "    (8,  5): {((8,0), 5, 30),  ((8,8), 3, 30),  ((4,5), 4, 15)},\n",
    "    (8,  8): {((8,5), 3, 30),  ((8,12), 4, 30), ((4,8), 4, 15)},\n",
    "    (8, 12): {((8,8), 4, 30),  ((4,12), 4, 30)}\n",
    "}\n",
    "```\n",
    "\n",
    "We represent the following graph:\n",
    "\n",
    "<img src=\"graph_city.png\" alt=\"drawing\" width=\"500\"/>\n",
    "\n",
    "***Note, that this road network has no one-direction roads.***"
   ]
  },
  {
   "cell_type": "code",
   "execution_count": 341,
   "id": "beb9c791-0463-430b-9845-9370dd990470",
   "metadata": {},
   "outputs": [
    {
     "name": "stdout",
     "output_type": "stream",
     "text": [
      "Appending to assignment2_3424340_notebook.py\n"
     ]
    }
   ],
   "source": [
    "%%execwritefile assignment2_{group}_notebook.py 15 -a -s -c\n",
    "\n",
    "class Graph(Graph):   \n",
    "    def find_edges(self):\n",
    "        \"\"\"\n",
    "        This method does a depth-first/brute-force search for each node to find the edges of each node.\n",
    "        \"\"\"\n",
    "        # Initializing the stack.\n",
    "        stack = self.adjacency_list.keys()\n",
    "\n",
    "        # Initializing the grid.\n",
    "        grid = map_.grid\n",
    "\n",
    "        # Looping through each node in the stack.\n",
    "        for node in stack:\n",
    "            neighbours = self.neighbour_coordinates(node)\n",
    "            # Finding each neighbour node of the current node by checking every direction. \n",
    "            for neighbour in neighbours: \n",
    "                speed = grid[neighbour]\n",
    "                neighbour_node, distance = self.find_next_node_in_adjacency_list(neighbour, (neighbour[0] - node[0] , neighbour[1] - node[1]))\n",
    "                self.adjacency_list[node].add((neighbour_node, distance, int(speed)))\n",
    "            \n",
    "    \n",
    "        # Om te checken.\n",
    "        for i,k in self.adjacency_list.items():\n",
    "            print(i,k)\n",
    "        \n",
    "\n",
    "    def find_next_node_in_adjacency_list(self, node, direction):\n",
    "        \"\"\"\n",
    "        This is a helper method for find_edges to find a single edge given a node and a direction.\n",
    "\n",
    "        :param node: The node from which we try to find its \"neighboring node\" NOT its neighboring coordinates.\n",
    "        :type node: tuple[int]\n",
    "        :param direction: The direction we want to search in this can only be 4 values (0, 1), (1, 0), (0, -1) or (-1, 0).\n",
    "        :type direction: tuple[int]\n",
    "        :return: This returns the first node in this direction and the distance.\n",
    "        :rtype: tuple[int], int \n",
    "        \"\"\"\n",
    "\n",
    "        # We initilize\n",
    "        current_node = node\n",
    "\n",
    "        # Since node itself is one further we initialize 1\n",
    "        distance = 1\n",
    "\n",
    "        # While the current_node is not in history .\n",
    "        while current_node not in self.adjacency_list or current_node == node:\n",
    "            # Calculating the new coordinates of the current node when following the direction\n",
    "            current_node = (current_node[0] + direction[0], current_node[1] + direction[1])\n",
    "\n",
    "            distance += 1\n",
    "            \n",
    "        return current_node, distance\n",
    "\n",
    "\n",
    "\n",
    "\n",
    "\n",
    "\n",
    "\n",
    "\n"
   ]
  },
  {
   "cell_type": "markdown",
   "id": "8a207915-0ac9-4e7d-9713-4fa630f9807b",
   "metadata": {
    "editable": false,
    "slideshow": {
     "slide_type": ""
    },
    "tags": []
   },
   "source": [
    "### Test your code\n",
    "\n",
    "Below, you can test your algorithm. Make sure that you test various road grids and that your algorithm works for all of them. To give you a head start a very limited test is given."
   ]
  },
  {
   "cell_type": "code",
   "execution_count": 342,
   "id": "5133b79d-bb3d-4427-995b-0b6caa1d43b7",
   "metadata": {},
   "outputs": [],
   "source": [
    "# If you put the map generated in a separate cell you can run multiple tests on the same map\n",
    "map_ = Map(0, (1,1))"
   ]
  },
  {
   "cell_type": "code",
   "execution_count": 343,
   "id": "02560ac3-8dc7-4131-b49a-1bdf42db5e59",
   "metadata": {},
   "outputs": [
    {
     "name": "stdout",
     "output_type": "stream",
     "text": [
      "(0, 0) {((4, 0), 4, 30), ((0, 4), 4, 30)}\n",
      "(4, 0) {((4, 4), 4, 15), ((0, 0), 4, 30), ((7, 0), 3, 30)}\n",
      "(0, 4) {((4, 4), 4, 15), ((0, 0), 4, 30), ((0, 7), 3, 30)}\n",
      "(7, 0) {((4, 0), 3, 30), ((7, 4), 4, 30)}\n",
      "(0, 7) {((4, 7), 4, 30), ((0, 4), 3, 30)}\n",
      "(4, 4) {((7, 4), 3, 15), ((4, 0), 4, 15), ((0, 4), 4, 15), ((4, 7), 3, 15)}\n",
      "(7, 4) {((7, 7), 3, 30), ((7, 0), 4, 30), ((4, 4), 3, 15)}\n",
      "(4, 7) {((0, 7), 4, 30), ((7, 7), 3, 30), ((4, 4), 3, 15)}\n",
      "(7, 7) {((4, 7), 3, 30), ((7, 4), 3, 30)}\n"
     ]
    },
    {
     "data": {
      "image/png": "[encoded data removed]",
      "text/plain": [
       "<Figure size 1800x600 with 2 Axes>"
      ]
     },
     "metadata": {},
     "output_type": "display_data"
    }
   ],
   "source": [
    "plt.matplotlib.rcParams['figure.dpi'] = max(30, map_.size ** 0.5 // 2)  # Number of pixels, therefore, the quality of the image. A large dpi is very slow.\n",
    "\n",
    "graph = Graph(map_)\n",
    "graph.show_coordinates(size=30, color=\"k\")\n",
    "graph.show_edges()\n",
    "map_.show()\n",
    "\n"
   ]
  },
  {
   "cell_type": "markdown",
   "id": "ab0d7ffe-f8a2-4465-9050-4ca352bd5a7d",
   "metadata": {
    "editable": false,
    "slideshow": {
     "slide_type": ""
    },
    "tags": []
   },
   "source": [
    "## 1.2 Graph Floodfill\n",
    "\n",
    "Here, we will reimplement the flood-fill algorithm but now it must work on a graph instead of a grid. To save some time we use inherritance to copy-paste all the code of `FloodFillSolver` to `FloodFillSolverGraph`. Now, we only need to overwrite the `__call__` method and `next_step` method. Depending on how you implemented `find_path` you need to overwrite it or not. Make sure your distance is correct. You can also go back and make the method work for both classes if it doesn't work right now. If you want to overwrite the method uncomment the method and complete it. You do not need to change anything else. \n",
    "\n",
    "The theory says that BFS always gives the shortest state-space graph traversal path. So far, this worked out to also give the shortest path on our map. However, this is not the case anymore. Do some experiments using the `FloodFillSolverGraph` on different map levels, why does it not guarantee to give the shortest path on some levels but on others it does? What changed between floodfill on the grid vs floodfill on the graph?"
   ]
  },
  {
   "cell_type": "code",
   "execution_count": 344,
   "id": "0089f6cb-4eea-400a-8f6a-c08d406eebeb",
   "metadata": {},
   "outputs": [
    {
     "name": "stdout",
     "output_type": "stream",
     "text": [
      "Appending to assignment2_3424340_notebook.py\n"
     ]
    }
   ],
   "source": [
    "%%execwritefile assignment2_{group}_notebook.py 120 -a -s \n",
    "\n",
    "class FloodFillSolverGraph(FloodFillSolver):\n",
    "    \"\"\"\n",
    "    A class instance should at least contain the following attributes after being called:\n",
    "        :param queue: A queue that contains all the nodes that need to be visited.\n",
    "        :type queue: collections.deque\n",
    "        :param history: A dictionary containing the coordinates that will be visited and as values the coordinate that lead to this coordinate.\n",
    "        :type history: dict[tuple[int], tuple[int]]\n",
    "    \"\"\"\n",
    "    def __call__(self, graph, source, destination):      \n",
    "        \"\"\"\n",
    "        This method gives a shortest route through the grid from source to destination.\n",
    "        You start at the source and the algorithm ends if you reach the destination, both nodes should be included in the path.\n",
    "        A route consists of a list of nodes (which are coordinates).\n",
    "\n",
    "        Hint: The history is already given as a dictionary with as keys the node in the state-space graph and\n",
    "        as values the previous node from which this node was visited.\n",
    "\n",
    "        :param graph: The graph that represents the map.\n",
    "        :type graph: Graph\n",
    "        :param source: The node where the path starts.\n",
    "        :type source: tuple[int]\n",
    "        :param destination: The node where the path ends.\n",
    "        :type destination: tuple[int]\n",
    "        :return: The shortest route, which consists of a list of nodes and the length of the route.\n",
    "        :rtype: list[tuple[int]], float\n",
    "        \"\"\"       \n",
    "        self.queue = deque([source])\n",
    "        self.history = {source: None}\n",
    "\n",
    "        # Initializing the destination, source and the graph..\n",
    "        self.destination = destination\n",
    "        self.source = source\n",
    "        self.graph = graph\n",
    "\n",
    "        # Calling the main_loop.\n",
    "        self.main_loop()\n",
    "\n",
    "        # Calculating the path and the length of the path.\n",
    "        path, length = self.find_path()\n",
    "\n",
    "        # Returning the path and the length of the path.\n",
    "        return path, length     \n",
    "\n",
    "    # def find_path(self):\n",
    "    #     \"\"\"\n",
    "    #     This method finds the shortest paths between the source node and the destination node.\n",
    "    #     It also returns the length of the path. \n",
    "        \n",
    "    #     Note, that going from one node to the next has a length of 1.\n",
    "\n",
    "    #     :return: A path that is the optimal route from source to destination and its length.\n",
    "    #     :rtype: list[tuple[int]], float\n",
    "    #     \"\"\"\n",
    "    #     raise NotImplementedError(\"Please complete this method\")       \n",
    "\n",
    "    def next_step(self, node):\n",
    "        \"\"\"\n",
    "        This method returns the next possible actions.\n",
    "\n",
    "        :param node: The current node\n",
    "        :type node: tuple[int]\n",
    "        :return: A list with possible next nodes that can be visited from the current node.\n",
    "        :rtype: list[tuple[int]]  \n",
    "        \"\"\"\n",
    "\n",
    "        # Initializing the te list.\n",
    "        pos_steps = []\n",
    "\n",
    "        # Looping throught every possible direction. Hoever, since the graph has also the distance and speed, we take the only the node into consideration.\n",
    "        for direction in list(self.graph[node]):\n",
    "            pos_steps.append(direction[0])\n",
    "            \n",
    "        # Returning the possible steps.\n",
    "        return pos_steps   \n"
   ]
  },
  {
   "cell_type": "markdown",
   "id": "d89fd304-5596-4565-9a5e-b5d6bd35df83",
   "metadata": {
    "editable": false,
    "slideshow": {
     "slide_type": ""
    },
    "tags": []
   },
   "source": [
    "### Test your code\n",
    "\n",
    "Below, you can test your algorithm. Make sure that you test various road grids and that your algorithm works for all of them. To give you a head start a very limited test is given.\n",
    "\n",
    "***Do not forget to do the experiments described above***"
   ]
  },
  {
   "cell_type": "code",
   "execution_count": 345,
   "id": "fafd75ba-49ff-4fbd-b4ea-6ddcfda12b7c",
   "metadata": {},
   "outputs": [],
   "source": [
    "# If you put the map generated in a separate cell you can run multiple tests on the same map\n",
    "map_ = Map(1, (1,3))  # Now you can also solve the levels 1, 2, 3 and 4 "
   ]
  },
  {
   "cell_type": "code",
   "execution_count": 346,
   "id": "6f86c862-78d9-4e00-821b-8b68872d7d79",
   "metadata": {},
   "outputs": [
    {
     "name": "stdout",
     "output_type": "stream",
     "text": [
      "(0, 0) {((0, 2), 2, 30), ((4, 0), 4, 30)}\n",
      "(0, 2) {((0, 9), 7, 30), ((0, 0), 2, 30), ((4, 2), 4, 15)}\n",
      "(4, 0) {((4, 2), 2, 15), ((0, 0), 4, 30), ((6, 0), 2, 30)}\n",
      "(6, 0) {((10, 0), 4, 30), ((4, 0), 2, 30), ((6, 2), 2, 15)}\n",
      "(4, 2) {((4, 5), 3, 15), ((0, 2), 4, 15), ((4, 0), 2, 15)}\n",
      "(6, 2) {((6, 5), 3, 15), ((6, 0), 2, 15), ((10, 2), 4, 15)}\n",
      "(4, 5) {((4, 9), 4, 15), ((4, 2), 3, 15), ((6, 5), 2, 15)}\n",
      "(0, 9) {((4, 9), 4, 15), ((0, 2), 7, 30), ((0, 12), 3, 30)}\n",
      "(10, 0) {((13, 0), 3, 30), ((6, 0), 4, 30), ((10, 2), 2, 15)}\n",
      "(6, 5) {((10, 5), 4, 15), ((6, 2), 3, 15), ((6, 9), 4, 15), ((4, 5), 2, 15)}\n",
      "(10, 2) {((10, 0), 2, 15), ((10, 5), 3, 15), ((6, 2), 4, 15), ((13, 2), 3, 15)}\n",
      "(0, 12) {((0, 9), 3, 30), ((4, 12), 4, 30)}\n",
      "(13, 0) {((13, 2), 2, 30), ((10, 0), 3, 30)}\n",
      "(4, 9) {((0, 9), 4, 15), ((4, 5), 4, 15), ((6, 9), 2, 15), ((4, 12), 3, 15)}\n",
      "(13, 2) {((13, 0), 2, 30), ((10, 2), 3, 15), ((13, 5), 3, 30)}\n",
      "(10, 5) {((13, 5), 3, 15), ((6, 5), 4, 15), ((10, 9), 4, 15), ((10, 2), 3, 15)}\n",
      "(6, 9) {((4, 9), 2, 15), ((6, 5), 4, 15), ((10, 9), 4, 15)}\n",
      "(4, 12) {((10, 12), 6, 30), ((4, 9), 3, 15), ((0, 12), 4, 30)}\n",
      "(13, 5) {((13, 2), 3, 30), ((13, 9), 4, 30), ((10, 5), 3, 15)}\n",
      "(10, 9) {((10, 12), 3, 15), ((10, 5), 4, 15), ((6, 9), 4, 15), ((13, 9), 3, 15)}\n",
      "(13, 9) {((13, 5), 4, 30), ((10, 9), 3, 15), ((13, 12), 3, 30)}\n",
      "(10, 12) {((10, 9), 3, 15), ((4, 12), 6, 30), ((13, 12), 3, 30)}\n",
      "(13, 12) {((10, 12), 3, 30), ((13, 9), 3, 30)}\n",
      "The path length was 25.\n"
     ]
    },
    {
     "data": {
      "image/png": "[encoded data removed]",
      "text/plain": [
       "<Figure size 1800x600 with 2 Axes>"
      ]
     },
     "metadata": {},
     "output_type": "display_data"
    }
   ],
   "source": [
    "plt.matplotlib.rcParams['figure.dpi'] = max(30, map_.size ** 0.5 // 2)  # Number of pixels, therefore, the quality of the image. A large dpi is very slow.\n",
    "\n",
    "graph = Graph(map_)\n",
    "start = (0,0)\n",
    "end = (map_.shape[0]-1, map_.shape[1]-1)\n",
    "\n",
    "path, length = FloodFillSolverGraph()(graph, start, end)\n",
    "\n",
    "print(f\"The path length was {length}.\")\n",
    "graph.show_coordinates(color='r', size=20)\n",
    "map_.show(path, True)\n"
   ]
  },
  {
   "cell_type": "markdown",
   "id": "e426dfd0-e816-472f-b12f-bb6c09e7b3ac",
   "metadata": {
    "editable": false,
    "slideshow": {
     "slide_type": ""
    },
    "tags": []
   },
   "source": [
    "## 1.3 BFS with Priority Queue\n",
    "\n",
    "As you discovered in the previous task, a basic floodfill or BFS does not work on a more general graph compared to a grid. Here, we will update the algorithm such that it works in the more general case. There are many names for such an algorithm. However, in this assignment, we are only interested in why and how it works. The main problem of a simple BFS is that it does not take into account the cost of going from one node to the next. In [1.0 Grid Floodfill ](#1.0-Grid-Floodfill,-a-Basic-BFS) this was not a problem as the cost was 1 for all steps. However, in a graph, the cost between two neighboring nodes can be anything because it is the distance between the two nodes. Therefore, we should not explore the state-space graph using a queue (first in first out) but a priority queue where we explore the nodes with the shortest distance to our source node.\n",
    "\n",
    "Think about why this solves our problems. How does changing the order of visiting nodes guarantee that when you reach the destination node you can stop because you found the shortest path?\n",
    "\n",
    "***Note, that we know that there are fast implementations in Python for a priority queue. However, we want to see that you understand how a priority queue work"
   ]
  },
  {
   "cell_type": "markdown",
   "id": "cedba148",
   "metadata": {},
   "source": [
    "s. Therefore you need to use a list, that you update appropriately.***"
   ]
  },
  {
   "cell_type": "code",
   "execution_count": 347,
   "id": "1d484371-708c-4eb3-ae66-510d2656f542",
   "metadata": {},
   "outputs": [
    {
     "name": "stdout",
     "output_type": "stream",
     "text": [
      "Appending to assignment2_3424340_notebook.py\n"
     ]
    }
   ],
   "source": [
    "%%execwritefile assignment2_{group}_notebook.py 130 -a -s \n",
    "\n",
    "class BFSSolverShortestPath():\n",
    "    \"\"\"\n",
    "    A class instance should at least contain the following attributes after being called:\n",
    "        :param priorityqueue: A priority queue that contains all the nodes that need to be visited including the distances it takes to reach these nodes.\n",
    "        :type priorityqueue: list[tuple[tuple(int), float]]\n",
    "        :param history: A dictionary containing the nodes that will be visited and \n",
    "                        as values the node that lead to this node and\n",
    "                        the distance it takes to get to this node.\n",
    "        :type history: dict[tuple[int], tuple[tuple[int], int]]\n",
    "    \"\"\"   \n",
    "    def __call__(self, graph, source, destination):      \n",
    "        \"\"\"\n",
    "        This method gives the shortest route through the graph from the source to the destination node.\n",
    "        You start at the source node and the algorithm ends if you reach the destination node, \n",
    "        both nodes should be included in the path.\n",
    "        A route consists of a list of nodes (which are coordinates).\n",
    "\n",
    "        :param graph: The graph that represents the map.\n",
    "        :type graph: Graph\n",
    "        :param source: The node where the path starts\n",
    "        :type source: tuple[int] \n",
    "        :param destination: The node where the path ends\n",
    "        :type destination: tuple[int]\n",
    "        :param vehicle_speed: The maximum speed of the vehicle.\n",
    "        :type vehicle_speed: float\n",
    "        :return: The shortest route and the time it takes. The route consists of a list of nodes.\n",
    "        :rtype: list[tuple[int]], float\n",
    "        \"\"\"       \n",
    "        self.priorityqueue = [(source, 0)]\n",
    "        self.history = {source: (None, 0)}\n",
    "        self.destination = destination\n",
    "\n",
    "        # Initializing the source and the graph..\n",
    "        self.source = source\n",
    "        self.graph = graph\n",
    "\n",
    "        # Calling the main_loop.\n",
    "        self.main_loop()\n",
    "\n",
    "        # Calculating the route and the cost (distance) of the path.\n",
    "        route, cost = self.find_path()\n",
    "    \n",
    "        # Returning the route and the cost.\n",
    "        return route, cost   \n",
    "\n",
    "    def find_path(self):\n",
    "        \"\"\"\n",
    "        This method finds the shortest paths between the source node and the destination node.\n",
    "        It also returns the length of the path. \n",
    "        \n",
    "        Note, that going from one node to the next has a length of 1.\n",
    "\n",
    "        :return: A path that is the optimal route from source to destination and its length.\n",
    "        :rtype: list[tuple[int]], float\n",
    "        \"\"\"\n",
    "        # Initializing the route list and the initial current node as the destination.\n",
    "        route = []\n",
    "        current = self.destination\n",
    "\n",
    "        # For as long the node is not None it will be added to the route and the new current node is initialized using the dictionary of history.\n",
    "        while current is not None:\n",
    "            route.append(current)\n",
    "            current = self.history[current][0]\n",
    "\n",
    "        # Initializing the time it costs (distance) from that node.\n",
    "        cost = self.history[self.destination][1]\n",
    "\n",
    "        # Reverse the path to get it from source to destination.\n",
    "        route = route[::-1]\n",
    "        \n",
    "        # Returning the path and the length.\n",
    "        return route, cost      \n",
    "\n",
    "    def main_loop(self):\n",
    "        \"\"\"\n",
    "        This method contains the logic of the flood-fill algorithm for the shortest path problem.\n",
    "\n",
    "        It does not have any inputs nor outputs. \n",
    "        Hint, use object attributes to store results.\n",
    "        \"\"\"\n",
    "         # While the priority queue is not empty.\n",
    "        while self.priorityqueue:\n",
    "            # We have to sort the priority queue according to the node with the smallest cost (distance).\n",
    "            self.priorityqueue.sort(key=lambda x: x[1])\n",
    "            current_node, distance = self.priorityqueue.pop(0)\n",
    "            print(\"current_node\", current_node)\n",
    "\n",
    "            # If the base case is satisfied we can return the route and cost.\n",
    "            if self.base_case(current_node):\n",
    "                return\n",
    "\n",
    "            # Otherwise, we are gonna go through all the next possible steps. Plus taking into account the speed_limit and the distance.\n",
    "            for new_node in self.next_step(current_node):\n",
    "                speed_limit = new_node[2]\n",
    "                distance = new_node[1]\n",
    "                new_cost = self.new_cost(current_node, distance, speed_limit)\n",
    "                self.step(current_node, new_node[0], new_cost, speed_limit)\n",
    "\n",
    "\n",
    "    def base_case(self, node):\n",
    "        \"\"\"\n",
    "        This method checks if the base case is reached.\n",
    "\n",
    "        :param node: The current node\n",
    "        :type node: tuple[int]\n",
    "        :return: Returns True if the base case is reached.\n",
    "        :rtype: bool\n",
    "        \"\"\"\n",
    "        # The base case is that the current node is the destination. Thus when \n",
    "        # we return true we know we have found the destination.\n",
    "        if node == self.destination:\n",
    "            return True\n",
    "\n",
    "        return False\n",
    "\n",
    "    def new_cost(self, previous_node, distance, speed_limit):\n",
    "        \"\"\"\n",
    "        This is a helper method that calculates the new cost to go from the previous node to\n",
    "        a new node with a distance and speed_limit between the previous node and new node.\n",
    "\n",
    "        For now, speed_limit can be ignored.\n",
    "\n",
    "        :param previous_node: The previous node that is the fastest way to get to the new node.\n",
    "        :type previous_node: tuple[int]\n",
    "        :param distance: The distance between the node and new_node\n",
    "        :type distance: int\n",
    "        :param speed_limit: The speed limit on the road from node to new_node. \n",
    "        :type speed_limit: float\n",
    "        :return: The cost to reach the node.\n",
    "        :rtype: float\n",
    "        \"\"\"\n",
    "        # Initializing the cost of the previous node\n",
    "        previous_cost = self.history[previous_node][1]\n",
    "\n",
    "        # Calculate the new cost as the sum of the previous cost and the distance\n",
    "        new_cost = previous_cost + distance\n",
    "\n",
    "        # Returning the new cost.\n",
    "        return new_cost\n",
    "\n",
    "    def step(self, node, new_node, distance, speed_limit):\n",
    "        \"\"\"\n",
    "        One step in the BFS algorithm. For now, speed_limit can be ignored.\n",
    "\n",
    "        :param node: The current node\n",
    "        :type node: tuple[int]\n",
    "        :param new_node: The next node that can be visited from the current node\n",
    "        :type new_node: tuple[int]\n",
    "        :param distance: The distance between the node and new_node\n",
    "        :type distance: int\n",
    "        :param speed_limit: The speed limit on the road from node to new_node. \n",
    "        :type speed_limit: float\n",
    "        \"\"\"\n",
    "        \n",
    "\n",
    "        # First we need to check if we have already gone through the next node. If not we add it to our queue and add to our history as key and with the value the previous node.\n",
    "        if new_node not in self.history:\n",
    "            self.priorityqueue.append((new_node, distance))\n",
    "            self.history[new_node] = (node, distance)\n",
    "    \n",
    "    def next_step(self, node):\n",
    "        \"\"\"\n",
    "        This method returns the next possible actions.\n",
    "\n",
    "        :param node: The current node\n",
    "        :type node: tuple[int]\n",
    "        :return: A list with possible next nodes that can be visited from the current node.\n",
    "        :rtype: list[tuple[int]]  \n",
    "        \"\"\"\n",
    "\n",
    "        return self.graph[node]\n",
    "                \n"
   ]
  },
  {
   "cell_type": "markdown",
   "id": "886696e3-1783-45af-a86f-b7b96f5bb583",
   "metadata": {
    "editable": false,
    "slideshow": {
     "slide_type": ""
    },
    "tags": []
   },
   "source": [
    "### Test your code\n",
    "\n",
    "Below, you can test your algorithm. Make sure that you test various road grids and that your algorithm works for all of them. To give you a head start a very limited test is given."
   ]
  },
  {
   "cell_type": "code",
   "execution_count": 348,
   "id": "4d38a2f1-8ea3-412c-9bc5-17c2363f33b2",
   "metadata": {},
   "outputs": [],
   "source": [
    "# If you put the map generated in a separate cell you can run multiple tests on the same map\n",
    "map_ = Map(1, (1,3))"
   ]
  },
  {
   "cell_type": "code",
   "execution_count": 349,
   "id": "b76878a7-662b-40f7-b87f-efc03e3f79e6",
   "metadata": {},
   "outputs": [
    {
     "name": "stdout",
     "output_type": "stream",
     "text": [
      "(0, 0) {((4, 0), 4, 30), ((0, 8), 8, 30)}\n",
      "(4, 0) {((0, 0), 4, 30), ((7, 0), 3, 30), ((4, 8), 8, 15)}\n",
      "(7, 0) {((7, 4), 4, 15), ((4, 0), 3, 30), ((9, 0), 2, 30)}\n",
      "(0, 8) {((4, 8), 4, 15), ((0, 0), 8, 30), ((0, 11), 3, 30)}\n",
      "(9, 0) {((9, 4), 4, 30), ((7, 0), 2, 30)}\n",
      "(7, 4) {((9, 4), 2, 15), ((7, 0), 4, 15)}\n",
      "(0, 11) {((7, 11), 7, 30), ((0, 8), 3, 30)}\n",
      "(4, 8) {((4, 0), 8, 15), ((0, 8), 4, 15)}\n",
      "(9, 4) {((9, 0), 4, 30), ((7, 4), 2, 15), ((9, 8), 4, 30)}\n",
      "(9, 8) {((9, 4), 4, 30), ((7, 8), 2, 15), ((9, 11), 3, 30)}\n",
      "(7, 11) {((0, 11), 7, 30), ((9, 11), 2, 30), ((7, 8), 3, 15)}\n",
      "(7, 8) {((7, 11), 3, 15), ((9, 8), 2, 15)}\n",
      "(9, 11) {((9, 8), 3, 30), ((7, 11), 2, 30)}\n",
      "current_node (0, 0)\n",
      "current_node (4, 0)\n",
      "current_node (7, 0)\n",
      "current_node (0, 8)\n",
      "current_node (9, 0)\n",
      "current_node (7, 4)\n",
      "current_node (0, 11)\n",
      "current_node (4, 8)\n",
      "current_node (9, 4)\n",
      "current_node (9, 8)\n",
      "current_node (7, 11)\n",
      "current_node (7, 8)\n",
      "current_node (9, 11)\n",
      "The path [(0, 0), (4, 0), (7, 0), (9, 0), (9, 4), (9, 8), (9, 11)] has a distance of: 20\n"
     ]
    },
    {
     "data": {
      "image/png": "[encoded data removed]",
      "text/plain": [
       "<Figure size 3000x1000 with 2 Axes>"
      ]
     },
     "metadata": {},
     "output_type": "display_data"
    }
   ],
   "source": [
    "plt.matplotlib.rcParams['figure.dpi'] = max(50, map_.size ** 0.5 // 2)  # Number of pixels, therefore, the quality of the image. A large dpi is very slow.\n",
    "\n",
    "graph = Graph(map_)\n",
    "start = (0,0)\n",
    "end = (map_.shape[0]-1, map_.shape[1]-1)\n",
    "\n",
    "path, distance = BFSSolverShortestPath()(graph, start, end)\n",
    "print(f\"The path {path} has a distance of: {distance}\")\n",
    "graph.show_coordinates(color='r', size=10)\n",
    "map_.show(path, axis=True)\n"
   ]
  },
  {
   "cell_type": "markdown",
   "id": "7a0ded50-f569-45b3-a24c-34cdfc2ca1a0",
   "metadata": {
    "editable": false,
    "slideshow": {
     "slide_type": ""
    },
    "tags": []
   },
   "source": [
    "## 2.0 Fastest Path with BFS\n",
    "\n",
    "So far we focussed on the shortest path but often if you use a route planner you are not interested in the shortest path but in the fastest path. So, using faster roads that are a bit longer can give a better solution than using roads with a low speed limit. However, it also depends on the maximum speed of your vehicle, it is useless to take roads with a higher speed limit if you can not take advantage of it. Below, you will implement again a BFS algorithm that incorporates these changes. Note, that a more general fastest path algorithm can actually also give the shortest path with the correct input.\n",
    "\n",
    "***Hint: This algorithm should almost be a copy-paste from the previous BFS with the only change of what optimal is. Therefore, we will use inheritance to save you the trouble of copy-pasting.***\n"
   ]
  },
  {
   "cell_type": "code",
   "execution_count": 350,
   "id": "607b4e63-b537-463c-8567-5625775ee783",
   "metadata": {},
   "outputs": [
    {
     "name": "stdout",
     "output_type": "stream",
     "text": [
      "Appending to assignment2_3424340_notebook.py\n"
     ]
    }
   ],
   "source": [
    "%%execwritefile assignment2_{group}_notebook.py 200 -a -s \n",
    "\n",
    "class BFSSolverFastestPath(BFSSolverShortestPath):\n",
    "    \"\"\"\n",
    "    A class instance should at least contain the following attributes after being called:\n",
    "        :param priorityqueue: A priority queue that contains all the nodes that need to be visited \n",
    "                              including the time it takes to reach these nodes.\n",
    "        :type priorityqueue: list[tuple[tuple[int], float]]\n",
    "        :param history: A dictionary containing the nodes that will be visited and \n",
    "                        as values the node that lead to this node and\n",
    "                        the time it takes to get to this node.\n",
    "        :type history: dict[tuple[int], tuple[tuple[int], float]]\n",
    "    \"\"\"   \n",
    "    def __call__(self, graph, source, destination, vehicle_speed):      \n",
    "        \"\"\"\n",
    "        This method gives a fastest route through the grid from source to destination.\n",
    "\n",
    "        This is the same as the `__call__` method from `BFSSolverShortestPath` except that \n",
    "        we need to store the vehicle speed. \n",
    "        \n",
    "        Here, you can see how we can overwrite the `__call__` method but \n",
    "        still use the `__call__` method of BFSSolverShortestPath using `super`.\n",
    "        \"\"\"\n",
    "\n",
    "        self.vehicle_speed = vehicle_speed\n",
    "        \n",
    "        return super(BFSSolverFastestPath, self).__call__(graph, source, destination)\n",
    "\n",
    "    def new_cost(self, previous_node, distance, speed_limit):\n",
    "        \"\"\"\n",
    "        This is a helper method that calculates the new cost to go from the previous node to\n",
    "        a new node with a distance and speed_limit between the previous node and new node.\n",
    "\n",
    "        Use the `speed_limit` and `vehicle_speed` to determine the time/cost it takes to go to\n",
    "        the new node from the previous_node and add the time it took to reach the previous_node to it..\n",
    "\n",
    "        :param previous_node: The previous node that is the fastest way to get to the new node.\n",
    "        :type previous_node: tuple[int]\n",
    "        :param distance: The distance between the node and new_node\n",
    "        :type distance: int\n",
    "        :param speed_limit: The speed limit on the road from node to new_node. \n",
    "        :type speed_limit: float\n",
    "        :return: The cost to reach the node.\n",
    "        :rtype: float\n",
    "        \"\"\"\n",
    "        # Initializing the cost of the previous node\n",
    "        previous_cost = self.history[previous_node][1]\n",
    "\n",
    "        # First we need to check if the vehicle's speed is greater than the speed limit. Otherwise, it is useless to drive on a road where we cannot drive to the speed limit.\n",
    "        time = distance / min(speed_limit, self.vehicle_speed)\n",
    "\n",
    "        # Calculating the new cost, by summing up the previous cost and the time the vehicle takes to ride that distance. \n",
    "        new_cost = previous_cost + time\n",
    "\n",
    "        # Returning the new cost.\n",
    "        return new_cost\n",
    "      \n",
    "\n"
   ]
  },
  {
   "cell_type": "markdown",
   "id": "7e7fe7b0-d93c-4e76-8f6c-5fd0136f4efb",
   "metadata": {
    "editable": false,
    "slideshow": {
     "slide_type": ""
    },
    "tags": []
   },
   "source": [
    "### Test your code\n",
    "\n",
    "Below, you can test your algorithm. Make sure that you test various road grids and that your algorithm works for all of them. To give you a head start a very limited test is given."
   ]
  },
  {
   "cell_type": "code",
   "execution_count": 351,
   "id": "c7acfb35-899c-4c7a-bdb1-aff52d3002dd",
   "metadata": {},
   "outputs": [],
   "source": [
    "# If you put the map generated in a separate cell you can run multiple tests on the same map\n",
    "map_ = Map(2, (1,3))"
   ]
  },
  {
   "cell_type": "code",
   "execution_count": 360,
   "id": "50f52ee6-2667-431d-b73e-1707623cf2cd",
   "metadata": {},
   "outputs": [
    {
     "ename": "KeyboardInterrupt",
     "evalue": "",
     "output_type": "error",
     "traceback": [
      "\u001b[0;31m---------------------------------------------------------------------------\u001b[0m",
      "\u001b[0;31mKeyboardInterrupt\u001b[0m                         Traceback (most recent call last)",
      "Cell \u001b[0;32mIn[360], line 3\u001b[0m\n\u001b[1;32m      1\u001b[0m plt\u001b[38;5;241m.\u001b[39mmatplotlib\u001b[38;5;241m.\u001b[39mrcParams[\u001b[38;5;124m'\u001b[39m\u001b[38;5;124mfigure.dpi\u001b[39m\u001b[38;5;124m'\u001b[39m] \u001b[38;5;241m=\u001b[39m \u001b[38;5;28mmax\u001b[39m(\u001b[38;5;241m50\u001b[39m, map_\u001b[38;5;241m.\u001b[39msize \u001b[38;5;241m*\u001b[39m\u001b[38;5;241m*\u001b[39m \u001b[38;5;241m0.5\u001b[39m \u001b[38;5;241m/\u001b[39m\u001b[38;5;241m/\u001b[39m \u001b[38;5;241m2\u001b[39m)  \u001b[38;5;66;03m# Number of pixels, therefore, the quality of the image. A large dpi is very slow.\u001b[39;00m\n\u001b[0;32m----> 3\u001b[0m graph \u001b[38;5;241m=\u001b[39m Graph(map_)\n\u001b[1;32m      4\u001b[0m start \u001b[38;5;241m=\u001b[39m (\u001b[38;5;241m0\u001b[39m,\u001b[38;5;241m0\u001b[39m)\n\u001b[1;32m      5\u001b[0m end \u001b[38;5;241m=\u001b[39m (map_\u001b[38;5;241m.\u001b[39mshape[\u001b[38;5;241m0\u001b[39m]\u001b[38;5;241m-\u001b[39m\u001b[38;5;241m1\u001b[39m, map_\u001b[38;5;241m.\u001b[39mshape[\u001b[38;5;241m1\u001b[39m]\u001b[38;5;241m-\u001b[39m\u001b[38;5;241m1\u001b[39m)\n",
      "Cell \u001b[0;32mIn[338], line 31\u001b[0m, in \u001b[0;36mGraph.__init__\u001b[0;34m(self, map_, start)\u001b[0m\n\u001b[1;32m     28\u001b[0m \u001b[38;5;28mself\u001b[39m\u001b[38;5;241m.\u001b[39mstart \u001b[38;5;241m=\u001b[39m start\n\u001b[1;32m     30\u001b[0m \u001b[38;5;28mself\u001b[39m\u001b[38;5;241m.\u001b[39mfind_nodes()\n\u001b[0;32m---> 31\u001b[0m \u001b[38;5;28mself\u001b[39m\u001b[38;5;241m.\u001b[39mfind_edges()\n",
      "Cell \u001b[0;32mIn[341], line 18\u001b[0m, in \u001b[0;36mGraph.find_edges\u001b[0;34m(self)\u001b[0m\n\u001b[1;32m     16\u001b[0m     \u001b[38;5;28;01mfor\u001b[39;00m neighbour \u001b[38;5;129;01min\u001b[39;00m neighbours: \n\u001b[1;32m     17\u001b[0m         speed \u001b[38;5;241m=\u001b[39m grid[neighbour]\n\u001b[0;32m---> 18\u001b[0m         neighbour_node, distance \u001b[38;5;241m=\u001b[39m \u001b[38;5;28mself\u001b[39m\u001b[38;5;241m.\u001b[39mfind_next_node_in_adjacency_list(neighbour, (neighbour[\u001b[38;5;241m0\u001b[39m] \u001b[38;5;241m-\u001b[39m node[\u001b[38;5;241m0\u001b[39m] , neighbour[\u001b[38;5;241m1\u001b[39m] \u001b[38;5;241m-\u001b[39m node[\u001b[38;5;241m1\u001b[39m]))\n\u001b[1;32m     19\u001b[0m         \u001b[38;5;28mself\u001b[39m\u001b[38;5;241m.\u001b[39madjacency_list[node]\u001b[38;5;241m.\u001b[39madd((neighbour_node, distance, \u001b[38;5;28mint\u001b[39m(speed)))\n\u001b[1;32m     22\u001b[0m \u001b[38;5;66;03m# Om te checken.\u001b[39;00m\n",
      "Cell \u001b[0;32mIn[341], line 46\u001b[0m, in \u001b[0;36mGraph.find_next_node_in_adjacency_list\u001b[0;34m(self, node, direction)\u001b[0m\n\u001b[1;32m     43\u001b[0m distance \u001b[38;5;241m=\u001b[39m \u001b[38;5;241m1\u001b[39m\n\u001b[1;32m     45\u001b[0m \u001b[38;5;66;03m# While the current_node is not in history .\u001b[39;00m\n\u001b[0;32m---> 46\u001b[0m \u001b[38;5;28;01mwhile\u001b[39;00m current_node \u001b[38;5;129;01mnot\u001b[39;00m \u001b[38;5;129;01min\u001b[39;00m \u001b[38;5;28mself\u001b[39m\u001b[38;5;241m.\u001b[39madjacency_list \u001b[38;5;129;01mor\u001b[39;00m current_node \u001b[38;5;241m==\u001b[39m node:\n\u001b[1;32m     47\u001b[0m     \u001b[38;5;66;03m# Calculating the new coordinates of the current node when following the direction\u001b[39;00m\n\u001b[1;32m     48\u001b[0m     current_node \u001b[38;5;241m=\u001b[39m (current_node[\u001b[38;5;241m0\u001b[39m] \u001b[38;5;241m+\u001b[39m direction[\u001b[38;5;241m0\u001b[39m], current_node[\u001b[38;5;241m1\u001b[39m] \u001b[38;5;241m+\u001b[39m direction[\u001b[38;5;241m1\u001b[39m])\n\u001b[1;32m     50\u001b[0m     distance \u001b[38;5;241m+\u001b[39m\u001b[38;5;241m=\u001b[39m \u001b[38;5;241m1\u001b[39m\n",
      "\u001b[0;31mKeyboardInterrupt\u001b[0m: "
     ]
    }
   ],
   "source": [
    "plt.matplotlib.rcParams['figure.dpi'] = max(50, map_.size ** 0.5 // 2)  # Number of pixels, therefore, the quality of the image. A large dpi is very slow.\n",
    "\n",
    "graph = Graph(map_)\n",
    "start = (0,0)\n",
    "end = (map_.shape[0]-1, map_.shape[1]-1)\n",
    "end = graph.get_random_node()\n",
    "vehicle_speed = 180\n",
    "\n",
    "path, time = BFSSolverFastestPath()(graph, start, end, vehicle_speed)\n",
    "print(f\"The estimate travel time for the path is: {time}\")\n",
    "graph.show_coordinates(color='r', size=10)\n",
    "map_.show(path, True)\n"
   ]
  },
  {
   "cell_type": "markdown",
   "id": "beafb1b9-e021-4415-9741-e080673bfe30",
   "metadata": {
    "editable": false,
    "slideshow": {
     "slide_type": ""
    },
    "tags": []
   },
   "source": [
    "## 2.1 From Coordinate to Node\n",
    "\n",
    "In this question, we will restore some functionality that we lost with the graph representation. In the first question, we could go from any coordinate on the map to any other coordinate. When we started using graphs we lost that ability because not all coordinates were in the graph and therefore we could only find paths between nodes. We do not want to at all the coordinates to the graph because we would lose our speed advantage. So, we could use the idea of divide and conquer where we have two path-finding algorithms and then connect both solutions to get a final path. In this question, we will make an algorithm to find the closest nodes of any given coordinate.\n",
    "\n",
    "Note, that each coordinate should only have 1 or 2 closest nodes.\n",
    "\n",
    "On a programming note, instead of implementing a class as we have done so far, we will use a function for this algorithm. The reason is that it is a small and not very complex algorithm therefore a function will suffice.\n",
    "\n",
    "***Hint: Sometimes a problem requires a tailor-made algorithm. In this case, we could use a floodfill on the grid with certain base case conditions, however, this is not needed at all. Think about when a coordinate is node and could it be possible that you make a turn to find a node from a coordinate?***"
   ]
  },
  {
   "cell_type": "code",
   "execution_count": 353,
   "id": "179584f6-dd4b-473a-8ba2-a2cda71d268c",
   "metadata": {},
   "outputs": [
    {
     "name": "stdout",
     "output_type": "stream",
     "text": [
      "Appending to assignment2_3424340_notebook.py\n"
     ]
    }
   ],
   "source": [
    "%%execwritefile assignment2_{group}_notebook.py 210 -a -s \n",
    "\n",
    "def coordinate_to_node(map_, graph, coordinate):\n",
    "    \"\"\"\n",
    "    This function finds a path from a coordinate to its closest nodes.\n",
    "    A closest node is defined as the first node you encounter if you go a certain direction.\n",
    "    This means that unless the coordinate is a node, you will need to find two closest nodes.\n",
    "    If the coordinate is a node then return a list with only the coordinate itself.\n",
    "\n",
    "    :param map_: The map of the graph\n",
    "    :type map_: Map\n",
    "    :param graph: A Graph of the map\n",
    "    :type graph: Graph\n",
    "    :param coordinate: The coordinate from which we want to find the closest node in the graph\n",
    "    :type coordinate: tuple[int]\n",
    "    :return: This returns a list of closest nodes which contains either 1 or 2 nodes.\n",
    "    :rtype: list[tuple[int]]\n",
    "    \"\"\"\n",
    "    # Initializing the grid.\n",
    "    grid = map_.grid\n",
    "\n",
    "    # Initializing the possible directions.\n",
    "    direction = [(1,0), (-1, 0), (0, 1), (0, -1)]\n",
    "\n",
    "    # Initializing the list of the closest nodes.\n",
    "    closest = []\n",
    "\n",
    "    # If the coordinate is a node then we return the coordinate in a list. This works.\n",
    "    if coordinate in graph:\n",
    "        closest.append(coordinate)\n",
    "        print(closest)\n",
    "        return closest\n",
    "    else:\n",
    "        # We have to look in all directions where the two closest nodes are.\n",
    "        for way in direction:\n",
    "            # We initialize a boolean until we have found the node and aftwer each direction we must reinitialize the coordinate.\n",
    "            Found = False\n",
    "            new_coordinate = coordinate\n",
    "            while not Found:\n",
    "                # Going towards the certain direction.\n",
    "                new_coordinate = (new_coordinate[0] + way[0], new_coordinate[1] + way[1])\n",
    "               \n",
    "                # Checking if valid, otherwise we break the loop and start againg looping towards another direction.\n",
    "                if new_coordinate[0] < grid.shape[0] and new_coordinate[1] < grid.shape[1] and new_coordinate[0] >= 0 and new_coordinate[1] >=0 and grid[new_coordinate] > 0:\n",
    "                    # If the new_coordinate is in the graph it means that it is a  node.\n",
    "                    if new_coordinate in graph:\n",
    "                        # Appending it to the list.\n",
    "                        closest.append(new_coordinate)\n",
    "                        # Changing the boolean Found to True. To start searching in the other direction.\n",
    "                        Found = True\n",
    "                else:\n",
    "                    break\n",
    "        # Returning the closest nodes.\n",
    "        print(closest)\n",
    "        return closest\n",
    "        \n",
    "\n",
    "        \n"
   ]
  },
  {
   "cell_type": "markdown",
   "id": "fba596e2-ca04-4a55-b75b-8f20d70cea65",
   "metadata": {
    "editable": false,
    "slideshow": {
     "slide_type": ""
    },
    "tags": []
   },
   "source": [
    "### Test your code\n",
    "\n",
    "Below, you can test your algorithm. Make sure that you test various road grids and that your algorithm works for all of them. To give you a head start a very limited test is given."
   ]
  },
  {
   "cell_type": "code",
   "execution_count": 354,
   "id": "697b7b3f-ac49-44be-a3c0-65d580637e59",
   "metadata": {},
   "outputs": [],
   "source": [
    "# If you put the map generated in a separate cell you can run multiple tests on the same map\n",
    "map_ = Map(0, (1,3))"
   ]
  },
  {
   "cell_type": "code",
   "execution_count": 355,
   "id": "7e2826ee-51f7-4015-b9f8-3e7061af3076",
   "metadata": {},
   "outputs": [
    {
     "name": "stdout",
     "output_type": "stream",
     "text": [
      "(0, 0) {((3, 0), 3, 30), ((0, 3), 3, 30)}\n",
      "(3, 0) {((0, 0), 3, 30), ((7, 0), 4, 30), ((3, 3), 3, 15)}\n",
      "(0, 3) {((0, 0), 3, 30), ((0, 5), 2, 30), ((3, 3), 3, 15)}\n",
      "(0, 5) {((0, 3), 2, 30), ((3, 5), 3, 15), ((0, 8), 3, 30)}\n",
      "(3, 3) {((3, 5), 2, 15), ((7, 3), 4, 15), ((0, 3), 3, 15), ((3, 0), 3, 15)}\n",
      "(7, 0) {((11, 0), 4, 30), ((3, 0), 4, 30), ((7, 3), 3, 15)}\n",
      "(3, 5) {((3, 8), 3, 15), ((3, 3), 2, 15), ((7, 5), 4, 15), ((0, 5), 3, 15)}\n",
      "(0, 8) {((0, 5), 3, 30), ((3, 8), 3, 30)}\n",
      "(7, 3) {((11, 3), 4, 15), ((7, 0), 3, 15), ((7, 5), 2, 15), ((3, 3), 4, 15)}\n",
      "(11, 0) {((13, 0), 2, 30), ((11, 3), 3, 15), ((7, 0), 4, 30)}\n",
      "(3, 8) {((3, 5), 3, 15), ((7, 8), 4, 30), ((0, 8), 3, 30)}\n",
      "(7, 5) {((11, 5), 4, 15), ((7, 3), 2, 15), ((3, 5), 4, 15), ((7, 8), 3, 15)}\n",
      "(13, 0) {((13, 3), 3, 30), ((11, 0), 2, 30)}\n",
      "(11, 3) {((13, 3), 2, 15), ((11, 0), 3, 15), ((11, 5), 2, 15), ((7, 3), 4, 15)}\n",
      "(7, 8) {((7, 5), 3, 15), ((3, 8), 4, 30), ((11, 8), 4, 30)}\n",
      "(13, 3) {((13, 0), 3, 30), ((13, 5), 2, 30), ((11, 3), 2, 15)}\n",
      "(11, 5) {((7, 5), 4, 15), ((11, 8), 3, 15), ((11, 3), 2, 15), ((13, 5), 2, 15)}\n",
      "(13, 5) {((13, 8), 3, 30), ((11, 5), 2, 15), ((13, 3), 2, 30)}\n",
      "(11, 8) {((7, 8), 4, 30), ((13, 8), 2, 30), ((11, 5), 3, 15)}\n",
      "(13, 8) {((11, 8), 2, 30), ((13, 5), 3, 30)}\n",
      "[(0, 3), (0, 0)]\n"
     ]
    },
    {
     "data": {
      "image/png": "[encoded data removed]",
      "text/plain": [
       "<Figure size 3000x1000 with 2 Axes>"
      ]
     },
     "metadata": {},
     "output_type": "display_data"
    }
   ],
   "source": [
    "plt.matplotlib.rcParams['figure.dpi'] = max(50, map_.size ** 0.5 // 2)  # Number of pixels, therefore, the quality of the image. A large dpi is very slow.\n",
    "\n",
    "graph = Graph(map_)\n",
    "coordinate = (0, 1)\n",
    "\n",
    "nodes = coordinate_to_node(map_, graph, coordinate)\n",
    "\n",
    "graph.show_coordinates(color='r', size=10)\n",
    "plt.plot(coordinate[1], coordinate[0], 'x', color=\"yellow\", markersize=20, mew=8, label=\"coordinate\")\n",
    "plt.legend(loc='upper right')\n",
    "map_.show(nodes, True)"
   ]
  },
  {
   "cell_type": "markdown",
   "id": "5252229a-84c0-4606-b527-9016a7dc2cee",
   "metadata": {
    "editable": false,
    "slideshow": {
     "slide_type": ""
    },
    "tags": []
   },
   "source": [
    "## 2.2 Hierarchical Graph Representations\n",
    "\n",
    "***IMPORTANT NOTE: The algorithms in [2.2](#2.2-Hierarchical-Graph-Representations) and [2.3](#2.3a-Solving-the-Hierarchical-Graph-Representations) are more difficult to implement. If you describe and explain in your report how these algorithms should work but you do not implement them thus you skip to [3.0](#3.0-Fastest-Path-Between-Coordinates-(map-level-5)) then you can still get an 8.5. In other words, the following algorithms are designed to see if you can work with the ideas that you have learned in a new way and therefore make the difference between an 8.5 and 10.***\n",
    "\n",
    "Let's start with some background information. While it is unknown exactly how Google Maps works, there are open-source algorithms that should be similar to what Google Maps does. Often these algorithms include a Hierarchical system, where some nodes are more important than others. This is essentially already what we done when we went from a grid to a graph. Here, we determined that some coordinates were less important than others. However, we could take it one step further, not all nodes are equally important. For example, in a level 5 map, the highway nodes are probably way more important than some nodes inside a neighborhood. Therefore, it does not make a lot of sense to explore every little street to find the fastest route. Just to give you an idea, there are multiple solutions to prevent this behavior such as determining important nodes and connecting those with a cost and path. For example in the image below, only (0,0) and (2,2) are connected with other roads therefore it would make sense to just have a connection from node (0,0) to (2,2) indicate with the red line. Now, we effectively made the graph even smaller and therefore even faster. You can repeat this step multiple times each time removing nodes from the graph making your search faster. \n",
    "\n",
    "<img src=\"hierarchical_nodes.png\" alt=\"drawing\" width=\"200\"/>\n",
    "\n",
    "However, determining which node should be more important is not easy beyond the coordinate-to-node step and therefore we will use another option which is sectioning off the map into multiple graphs. Each graph is connected to another graph with so-called port nodes and we assume that if you find the fastest path from one node to a port node or between port nodes and connect them you have the fastest path. In [2.3](#2.3a-Solving-the-Hierarchical-Graph-Representations) we will come back to this assumption. A logical way of splitting a level 5 map would be to make a graph for each city and a graph for the highways. Here, the port nodes are the highway exits. This makes the assumptions also more likely to be true as going from a city node to a highway node as fast as possible is probably the fastest path. Why this is the case? In summary, to solve the fastest path we need to solve the following fastest paths going from: coordinate A -> closest node A -> highway exit A -> highway exit B -> closest node B -> coordinate B. \n",
    "\n",
    "To make this possible, we need to make a highway graph and we need to make a separate graph for each city. One possibility would be to use our `Graph` class but use the argument `start` such that it works on a country (level 5) map for both the highways and individual cities. In `create_country_graphs`, you need to return the highway graph and a graph for each city.\n",
    "\n",
    "***Hint: Use the methods and attributes of `map`***\n",
    "\n",
    "[Go to map objects and methods](#Map-Objects-Methods-&-Attributes)"
   ]
  },
  {
   "cell_type": "code",
   "execution_count": 356,
   "id": "f91e5bdd-812d-4322-a0fd-a176679dbbae",
   "metadata": {},
   "outputs": [
    {
     "name": "stdout",
     "output_type": "stream",
     "text": [
      "Appending to assignment2_3424340_notebook.py\n"
     ]
    }
   ],
   "source": [
    "%%execwritefile assignment2_{group}_notebook.py 220 -a -s\n",
    "\n",
    "def create_country_graphs(map_):\n",
    "    \"\"\"\n",
    "    This function returns a list of all graphs of a country map, where the first graph is the highways and de rest are the cities.\n",
    "\n",
    "    :param map_: The country map\n",
    "    :type map_: Map\n",
    "    :return: A list of graphs\n",
    "    :rtype: list[Graph]\n",
    "    \"\"\"\n",
    "    raise NotImplementedError(\"Please complete this method\")"
   ]
  },
  {
   "cell_type": "markdown",
   "id": "50c82417-c695-419f-a6d7-64784df00696",
   "metadata": {
    "editable": false,
    "slideshow": {
     "slide_type": ""
    },
    "tags": []
   },
   "source": [
    "### Test your code\n",
    "\n",
    "Below, you can test your algorithm. Make sure that you test various road grids of a level 5 map and that your algorithm works for all of them. To give you a head start a very limited test is given. Here, each graph has different node colors and the port nodes (which are highway exits) have two colors green and a city graph node color."
   ]
  },
  {
   "cell_type": "code",
   "execution_count": 357,
   "id": "4949f9c1-e795-4e80-b279-6925805e802e",
   "metadata": {},
   "outputs": [],
   "source": [
    "# If you put the map generated in a separate cell you can run multiple tests on the same map\n",
    "map_ = Map(5, (1,3), 5)\n"
   ]
  },
  {
   "cell_type": "code",
   "execution_count": 358,
   "id": "f16006e9-e303-4c1b-b0b4-f467b7bbc7cc",
   "metadata": {},
   "outputs": [
    {
     "ename": "NotImplementedError",
     "evalue": "Please complete this method",
     "output_type": "error",
     "traceback": [
      "\u001b[0;31m---------------------------------------------------------------------------\u001b[0m",
      "\u001b[0;31mNotImplementedError\u001b[0m                       Traceback (most recent call last)",
      "Cell \u001b[0;32mIn[358], line 4\u001b[0m\n\u001b[1;32m      1\u001b[0m plt\u001b[38;5;241m.\u001b[39mmatplotlib\u001b[38;5;241m.\u001b[39mrcParams[\u001b[38;5;124m'\u001b[39m\u001b[38;5;124mfigure.dpi\u001b[39m\u001b[38;5;124m'\u001b[39m] \u001b[38;5;241m=\u001b[39m \u001b[38;5;28mmin\u001b[39m(\u001b[38;5;241m1000\u001b[39m, \u001b[38;5;28mmax\u001b[39m(\u001b[38;5;241m50\u001b[39m, map_\u001b[38;5;241m.\u001b[39msize \u001b[38;5;241m*\u001b[39m\u001b[38;5;241m*\u001b[39m \u001b[38;5;241m0.5\u001b[39m \u001b[38;5;241m/\u001b[39m\u001b[38;5;241m/\u001b[39m \u001b[38;5;241m4\u001b[39m))  \u001b[38;5;66;03m# Number of pixels, therefore, the quality of the image. A large dpi is very slow.\u001b[39;00m\n\u001b[1;32m      3\u001b[0m colors \u001b[38;5;241m=\u001b[39m [\u001b[38;5;124m\"\u001b[39m\u001b[38;5;124mg\u001b[39m\u001b[38;5;124m\"\u001b[39m, \u001b[38;5;124m\"\u001b[39m\u001b[38;5;124mr\u001b[39m\u001b[38;5;124m\"\u001b[39m, \u001b[38;5;124m\"\u001b[39m\u001b[38;5;124mb\u001b[39m\u001b[38;5;124m\"\u001b[39m, \u001b[38;5;124m\"\u001b[39m\u001b[38;5;124my\u001b[39m\u001b[38;5;124m\"\u001b[39m, \u001b[38;5;124m\"\u001b[39m\u001b[38;5;124mm\u001b[39m\u001b[38;5;124m\"\u001b[39m, \u001b[38;5;124m\"\u001b[39m\u001b[38;5;124mc\u001b[39m\u001b[38;5;124m\"\u001b[39m]\n\u001b[0;32m----> 4\u001b[0m \u001b[38;5;28;01mfor\u001b[39;00m i, graph \u001b[38;5;129;01min\u001b[39;00m \u001b[38;5;28menumerate\u001b[39m(create_country_graphs(map_)):\n\u001b[1;32m      5\u001b[0m     graph\u001b[38;5;241m.\u001b[39mshow_coordinates(color\u001b[38;5;241m=\u001b[39mcolors[i], size\u001b[38;5;241m=\u001b[39m\u001b[38;5;241m3\u001b[39m \u001b[38;5;28;01mif\u001b[39;00m i \u001b[38;5;28;01melse\u001b[39;00m \u001b[38;5;241m6\u001b[39m)\n\u001b[1;32m      6\u001b[0m map_\u001b[38;5;241m.\u001b[39mshow()\n",
      "Cell \u001b[0;32mIn[356], line 10\u001b[0m, in \u001b[0;36mcreate_country_graphs\u001b[0;34m(map_)\u001b[0m\n\u001b[1;32m      1\u001b[0m \u001b[38;5;28;01mdef\u001b[39;00m \u001b[38;5;21mcreate_country_graphs\u001b[39m(map_):\n\u001b[1;32m      2\u001b[0m \u001b[38;5;250m    \u001b[39m\u001b[38;5;124;03m\"\"\"\u001b[39;00m\n\u001b[1;32m      3\u001b[0m \u001b[38;5;124;03m    This function returns a list of all graphs of a country map, where the first graph is the highways and de rest are the cities.\u001b[39;00m\n\u001b[1;32m      4\u001b[0m \n\u001b[0;32m   (...)\u001b[0m\n\u001b[1;32m      8\u001b[0m \u001b[38;5;124;03m    :rtype: list[Graph]\u001b[39;00m\n\u001b[1;32m      9\u001b[0m \u001b[38;5;124;03m    \"\"\"\u001b[39;00m\n\u001b[0;32m---> 10\u001b[0m     \u001b[38;5;28;01mraise\u001b[39;00m \u001b[38;5;167;01mNotImplementedError\u001b[39;00m(\u001b[38;5;124m\"\u001b[39m\u001b[38;5;124mPlease complete this method\u001b[39m\u001b[38;5;124m\"\u001b[39m)\n",
      "\u001b[0;31mNotImplementedError\u001b[0m: Please complete this method"
     ]
    }
   ],
   "source": [
    "plt.matplotlib.rcParams['figure.dpi'] = min(1000, max(50, map_.size ** 0.5 // 4))  # Number of pixels, therefore, the quality of the image. A large dpi is very slow.\n",
    "\n",
    "colors = [\"g\", \"r\", \"b\", \"y\", \"m\", \"c\"]\n",
    "for i, graph in enumerate(create_country_graphs(map_)):\n",
    "    graph.show_coordinates(color=colors[i], size=3 if i else 6)\n",
    "map_.show()"
   ]
  },
  {
   "cell_type": "markdown",
   "id": "f3134830-29f8-44ed-bc71-167a7531bbf7",
   "metadata": {
    "editable": false,
    "slideshow": {
     "slide_type": ""
    },
    "tags": []
   },
   "source": [
    "## 2.3a Solving the Hierarchical Graph Representations\n",
    "\n",
    "***IMPORTANT NOTE: Again, [2.3a](#2.3a-Solving-the-Hierarchical-Graph-Representations) is a more difficult algorithm and you can skip it and implement [2.3b](#2.3b-Multiple-Destinations) and [3.0](#3.0-Fastest-Path-Between-Coordinates-(map-level-5)) using the multiple graphs but without solving the hierarchical graph representation. This would result in a maximum grade of a 9.5, if you describe the idea of this step correctly in your report, but without implementing it.***\n",
    "\n",
    "At this point, we have everything to create the fastest path between two coordinates in different cities. However, there are instances where going from a coordinate A -> closest node A -> highway exit A -> highway exit B -> closest node B -> coordinate B is not the fastest path because the second fastest node A -> highway exit A leads to a much faster highway exit A -> highway exit B time. Therefore, making the found path suboptimal. The current approach where we divide the problem into smaller problems will never guarantee the fastest path unless we solve the hierarchical graph representation where we consider all port nodes. Below, you can find an image of an example where the port nodes are shown. However, to solve this graph we need to know the weight (cost) of each edge which can be found by applying BFS with a priority queue. However, while this would still be a bit faster than just searching from closest node A to closest node B in one go. We still need to find a lot of smaller paths as can be seen in the image below.\n",
    "\n",
    "<img src=\"hierarchical_graph.png\" alt=\"drawing\" width=\"800\"/>\n",
    "\n",
    "However, We can explore the graph where we only calculate the fastest path between two connected nodes if it is needed. This can be done by not searching for all highway exits but only the $n$ fastest from both closest nodes at the same time. This solves our previous problem where the second nearest highway exit was the fastest route. Now, we have essentially created a tuning parameter between a fast search and a guaranteed optimal search. Think about what happens if n equals 1 or if n equals the number of highway exits.\n",
    "\n",
    "We need to change three things compared to our previous `BFSSolverFastestPath`:\n",
    " - Our algorithm needs to accept multiple source nodes where each node has a travel time which is the time it takes to get to the source node (this can be zero).\n",
    " - Our algorithm needs to accept multiple destination nodes where each node has a travel time which is the time it takes to get from the destination node to somewhere else (this can be zero).\n",
    " - `find_path` needs to be updated to `find_n_paths`such that it takes into account the destination travel time but also return the $n$ best optimal paths.\n",
    "\n",
    "This means that instead of starting with a history and queue of one node we start with multiple source nodes and we search for multiple destinations. Also, the start cost is not 0, but the cost so far to get there. Similarly, the total path cost for the path includes the cost of the destination node (which can be zero or the cost to get from this destination node to another node).\n",
    "\n",
    "Note, that we already use inheritance to copy-paste all the code from `BFSSolverFastestPath` to `BFSSolverMultipleFastestPaths`. Also, `found_destinations` are now the destinations found by the algorithm, and `destination_nodes` is the input argument containing all destinations. This is different compared to `destinations` as it also contains the travel time for each destination. We gave you the three methods which we think should be adjusted. However, you are free to overwrite any other previous methods as well.\n",
    "\n",
    "We included an `__init__` To make different versions of the `BFSSolverMultipleFastestPaths` where the number of paths found is different.\n",
    "\n",
    "***You can use [2.3b](#2.3b-Multiple-Destinations) to practice because in [2.3b](#2.3b-Multiple-Destinations) you only need to search for multiple destination nodes which is a separate problem from starting with multiple nodes or finding the $n$ optimal paths.***"
   ]
  },
  {
   "cell_type": "code",
   "execution_count": null,
   "id": "efddfc94-218f-4e47-b2ec-d5498b943daa",
   "metadata": {},
   "outputs": [
    {
     "ename": "",
     "evalue": "",
     "output_type": "error",
     "traceback": [
      "\u001b[1;31mRunning cells with '/Users/Gabriela/Documents/Machine learning/AADS_Google_maps/.conda/bin/python' requires the ipykernel package.\n",
      "\u001b[1;31mRun the following command to install 'ipykernel' into the Python environment. \n",
      "\u001b[1;31mCommand: 'conda install -p /Users/Gabriela/Documents/Machine learning/AADS_Google_maps/.conda ipykernel --update-deps --force-reinstall'"
     ]
    }
   ],
   "source": [
    "%%execwritefile assignment2_{group}_notebook.py 230 -a -s \n",
    "\n",
    "class BFSSolverMultipleFastestPaths(BFSSolverFastestPath):\n",
    "    \"\"\"\n",
    "    A class instance should at least contain the following attributes after being called:\n",
    "        :param priorityqueue: A priority queue that contains all the nodes that need to be visited including the time it takes to reach these nodes.\n",
    "        :type priorityqueue: list[tuple[tuple[int], float]]\n",
    "        :param history: A dictionary containing the nodes that are visited and as values the node that leads to this node including the time it takes from the start node.\n",
    "        :type history: dict[tuple[int], tuple[tuple[int], float]]\n",
    "        :param found_destinations: The destinations already found with Dijkstra.\n",
    "        :type found_destinations: list[tuple[int]]\n",
    "    \"\"\"\n",
    "    def __init__(self, find_at_most=3):\n",
    "        \"\"\"\n",
    "        This init makes it possible to make a different Dijkstra algorithm \n",
    "        that find more or less destination nodes before it stops searching.\n",
    "\n",
    "        :param find_at_most: The number of found destination nodes before the algorithm stops\n",
    "        :type find_at_most: int\n",
    "        \"\"\"\n",
    "        self.find_at_most = find_at_most\n",
    "    \n",
    "    def __call__(self, graph, sources, destinations, vehicle_speed):      \n",
    "        \"\"\"\n",
    "        This method gives the top three fastest routes through the grid from any of the sources to any of the destinations.\n",
    "        You start at the sources and the algorithm ends if you reach enough destinations, both nodes should be included in the path.\n",
    "        A route consists of a list of nodes (which are coordinates).\n",
    "\n",
    "        :param graph: The graph that represents the map.\n",
    "        :type graph: Graph\n",
    "        :param sources: The nodes where the path starts and the time it took to get here.\n",
    "        :type sources: list[tuple[tuple[int], float]]\n",
    "        :param destinations: The nodes where the path ends and the time it took to get here.\n",
    "        :type destinations: list[tuple[tuple[int], float]]\n",
    "        :param vehicle_speed: The maximum speed of the vehicle.\n",
    "        :type vehicle_speed: float\n",
    "        :return: A list of the n fastest paths and time they take, sorted from fastest to slowest \n",
    "        :rtype: list[tuple[path, float]], where path is a fictional data type consisting of a list[tuple[int]]\n",
    "        \"\"\"       \n",
    "        self.priorityqueue = sorted(sources, key=lambda x:x[1])\n",
    "        self.history = {s: (None, t) for s, t in sources}\n",
    "        \n",
    "        self.destinations = destinations\n",
    "        self.destination_nodes = [dest[0] for dest in destinations]\n",
    "        self.found_destinations = []\n",
    "\n",
    "        raise NotImplementedError(\"Please complete this method\")       \n",
    "\n",
    "    def find_n_paths(self):\n",
    "        \"\"\"\n",
    "        This method needs to find the top `n` fastest paths between any source node and any destination node.\n",
    "        This does not mean that each source node has to be in a path nor that each destination node needs to be in a path.\n",
    "\n",
    "        Hint1: The fastest path is stored in each node by linking to the previous node. \n",
    "               Therefore, if you start searching from a destination node,\n",
    "               you always find the optimal path from that destination node.\n",
    "               This is similar if you only had one destination node.         \n",
    "\n",
    "        :return: A list of the n fastest paths and time they take, sorted from fastest to slowest \n",
    "        :rtype: list[tuple[path, float]], where path is a fictional data type consisting of a list[tuple[int]]\n",
    "        \"\"\"\n",
    "        raise NotImplementedError(\"Please complete this method\")       \n",
    "        \n",
    "    def base_case(self, node):\n",
    "        \"\"\"\n",
    "        This method checks if the base case is reached and\n",
    "        updates self.found_destinations\n",
    "\n",
    "        :param node: The current node\n",
    "        :type node: tuple[int]\n",
    "        :return: Returns True if the base case is reached.\n",
    "        :rtype: bool\n",
    "        \"\"\"\n",
    "        raise NotImplementedError(\"Please complete this method\")"
   ]
  },
  {
   "cell_type": "markdown",
   "id": "9aa05a3a-31d7-447c-8c65-a6420ef9dd67",
   "metadata": {
    "editable": false,
    "slideshow": {
     "slide_type": ""
    },
    "tags": []
   },
   "source": [
    "### Test your code\n",
    "\n",
    "Below, you can test your algorithm. Make sure that you test various road grids and that your algorithm works for all of them. The test that is given contains one start node and three random destination nodes. Try to make a test, where you choose one start node inside a city and as destination nodes the city highway exits. Of course, you need to use the level 5 map to do this."
   ]
  },
  {
   "cell_type": "code",
   "execution_count": null,
   "id": "c9c95524-e5a0-4cda-babf-63ac51eda46d",
   "metadata": {},
   "outputs": [
    {
     "ename": "",
     "evalue": "",
     "output_type": "error",
     "traceback": [
      "\u001b[1;31mRunning cells with '/Users/Gabriela/Documents/Machine learning/AADS_Google_maps/.conda/bin/python' requires the ipykernel package.\n",
      "\u001b[1;31mRun the following command to install 'ipykernel' into the Python environment. \n",
      "\u001b[1;31mCommand: 'conda install -p /Users/Gabriela/Documents/Machine learning/AADS_Google_maps/.conda ipykernel --update-deps --force-reinstall'"
     ]
    }
   ],
   "source": [
    "# If you put the map generated in a separate cell you can run multiple tests on the same map\n",
    "map_ = Map(2, (1,3))"
   ]
  },
  {
   "cell_type": "code",
   "execution_count": null,
   "id": "a85c25f1-8a12-4bda-987f-811ca5a7a28e",
   "metadata": {},
   "outputs": [
    {
     "ename": "",
     "evalue": "",
     "output_type": "error",
     "traceback": [
      "\u001b[1;31mRunning cells with '/Users/Gabriela/Documents/Machine learning/AADS_Google_maps/.conda/bin/python' requires the ipykernel package.\n",
      "\u001b[1;31mRun the following command to install 'ipykernel' into the Python environment. \n",
      "\u001b[1;31mCommand: 'conda install -p /Users/Gabriela/Documents/Machine learning/AADS_Google_maps/.conda ipykernel --update-deps --force-reinstall'"
     ]
    }
   ],
   "source": [
    "plt.matplotlib.rcParams['figure.dpi'] = min(1000, max(50, map_.size ** 0.5 // 4))  # Number of pixels, therefore, the quality of the image. A large dpi is very slow.\n",
    "\n",
    "graph = Graph(map_)\n",
    "start = [((0,0), 0)]\n",
    "ends = [(graph.get_random_node(), 0), (graph.get_random_node(), 0), (graph.get_random_node(), 0)]\n",
    "vehicle_speed = 180\n",
    "\n",
    "print(ends)\n",
    "paths = BFSSolverMultipleFastestPaths()(graph, start, ends, vehicle_speed)\n",
    "for path, time in paths:\n",
    "    print(f\"The estimate travel time for the path is: {time}\")\n",
    "    print(path)\n",
    "    graph.show_coordinates(color='r', size=10)\n",
    "    map_.show(path, True)"
   ]
  },
  {
   "cell_type": "markdown",
   "id": "f4381a32-e4b0-48fe-b2cc-0fe95b548d6a",
   "metadata": {
    "editable": false,
    "slideshow": {
     "slide_type": ""
    },
    "tags": []
   },
   "source": [
    "### Practice With BFSSolverMultipleFastestPaths Before 3.0\n",
    "\n",
    "Here you can make a test where you can practice connecting a node to the highway or finding paths between two ringways (the highway exits of two different cities) as suggested in test your code above. In question [3.0](#3.0-Fastest-Path-Between-Coordinates-(map-level-5)) you are tasked to connect two nodes using highway exits. Here, is a good place to practice how to do the substeps needed for [3.0](#3.0-Fastest-Path-Between-Coordinates-(map-level-5)). Note, that this exercise has a lot in common with lab 8 exercises 3.0 and 3.1."
   ]
  },
  {
   "cell_type": "code",
   "execution_count": null,
   "id": "a3f3766a-9ee4-4efe-8478-3c3be75f1175",
   "metadata": {},
   "outputs": [
    {
     "ename": "",
     "evalue": "",
     "output_type": "error",
     "traceback": [
      "\u001b[1;31mRunning cells with '/Users/Gabriela/Documents/Machine learning/AADS_Google_maps/.conda/bin/python' requires the ipykernel package.\n",
      "\u001b[1;31mRun the following command to install 'ipykernel' into the Python environment. \n",
      "\u001b[1;31mCommand: 'conda install -p /Users/Gabriela/Documents/Machine learning/AADS_Google_maps/.conda ipykernel --update-deps --force-reinstall'"
     ]
    }
   ],
   "source": [
    "# If you put the map generated in a separate cell you can run multiple tests on the same map\n",
    "map_ = Map(5, (1,3))"
   ]
  },
  {
   "cell_type": "code",
   "execution_count": null,
   "id": "aacbc372-c4a0-4952-afbb-d42c5bc2ddab",
   "metadata": {},
   "outputs": [
    {
     "ename": "",
     "evalue": "",
     "output_type": "error",
     "traceback": [
      "\u001b[1;31mRunning cells with '/Users/Gabriela/Documents/Machine learning/AADS_Google_maps/.conda/bin/python' requires the ipykernel package.\n",
      "\u001b[1;31mRun the following command to install 'ipykernel' into the Python environment. \n",
      "\u001b[1;31mCommand: 'conda install -p /Users/Gabriela/Documents/Machine learning/AADS_Google_maps/.conda ipykernel --update-deps --force-reinstall'"
     ]
    }
   ],
   "source": [
    "# Write you tests here"
   ]
  },
  {
   "cell_type": "markdown",
   "id": "f7cfcdc6-35be-465d-87eb-760cd8ab606f",
   "metadata": {
    "editable": false,
    "slideshow": {
     "slide_type": ""
    },
    "tags": []
   },
   "source": [
    "## 2.3b Multiple Destinations\n",
    "\n",
    "***IMPORTANT NOTE: This question is only a replacement for [2.3a](#2.3a-Solving-the-Hierarchical-Graph-Representations). So skip it if you did [2.3a](#2.3a-Solving-the-Hierarchical-Graph-Representations)!***\n",
    "\n",
    "Our previous `BFSSolverFastestPath` could only solve a path if the source and destination node were known. However, we do not know what the closest highway exit is when we try to find the fastest path between the closest node and the nearest highway exit. This can be solved by just giving multiple destination nodes and the destination node you find is the closest and therefore you can stop. Below, you need to program this functionality.\n",
    "\n",
    "Note, that we already use inheritance to copy-paste all the code from `BFSSolverFastestPath` to `BFSSolverFastestPathMD`. Also, `destination` is now the destination found by the algorithm, and `destinations` is the input argument containing all destinations. We gave you the two methods which we think should be adjusted. However, you are free to overwrite any other previous methods as well."
   ]
  },
  {
   "cell_type": "code",
   "execution_count": null,
   "id": "dd63464b-1159-4c07-9d24-bcee32cae385",
   "metadata": {},
   "outputs": [
    {
     "ename": "",
     "evalue": "",
     "output_type": "error",
     "traceback": [
      "\u001b[1;31mRunning cells with '/Users/Gabriela/Documents/Machine learning/AADS_Google_maps/.conda/bin/python' requires the ipykernel package.\n",
      "\u001b[1;31mRun the following command to install 'ipykernel' into the Python environment. \n",
      "\u001b[1;31mCommand: 'conda install -p /Users/Gabriela/Documents/Machine learning/AADS_Google_maps/.conda ipykernel --update-deps --force-reinstall'"
     ]
    }
   ],
   "source": [
    "%%execwritefile assignment2_{group}_notebook.py 235 -a -s \n",
    "\n",
    "class BFSSolverFastestPathMD(BFSSolverFastestPath):\n",
    "    def __call__(self, graph, source, destinations, vehicle_speed):      \n",
    "        \"\"\"\n",
    "        This method is functionally no different than the call method of BFSSolverFastestPath\n",
    "        except for what `destination` is.\n",
    "\n",
    "        See for an explanation of all arguments `BFSSolverFastestPath`.\n",
    "        \n",
    "        :param destinations: The nodes where the path ends.\n",
    "        :type destinations: list[tuple[int]]\n",
    "        \"\"\"\n",
    "        self.priorityqueue = [(source, 0)]\n",
    "        self.history = {source: (None, 0)}\n",
    "        self.destinations = destinations\n",
    "        self.destination = None\n",
    "        self.vehicle_speed = vehicle_speed\n",
    "\n",
    "        raise NotImplementedError(\"Please complete this method\")       \n",
    "\n",
    "    def base_case(self, node):\n",
    "        \"\"\"\n",
    "        This method checks if the base case is reached.\n",
    "\n",
    "        :param node: The current node\n",
    "        :type node: tuple[int]\n",
    "        :return: returns True if the base case is reached.\n",
    "        :rtype: bool\n",
    "        \"\"\"\n",
    "        raise NotImplementedError(\"Please complete this method\")"
   ]
  },
  {
   "cell_type": "markdown",
   "id": "c29b7f3f-6c16-4ea2-a0c4-e357216ea758",
   "metadata": {
    "editable": false,
    "slideshow": {
     "slide_type": ""
    },
    "tags": []
   },
   "source": [
    "### Test your code\n",
    "\n",
    "Below, you can test your algorithm. Make sure that you test various road grids and that your algorithm works for all of them. The test that is given contains one start node and three random destination nodes. Try to make a test, where you choose one start node inside a city and as destination nodes the city highway exits. Of course, you need to use the level 5 map to do this."
   ]
  },
  {
   "cell_type": "code",
   "execution_count": null,
   "id": "0232c490-1347-4c1d-afd2-72a6c8483da6",
   "metadata": {},
   "outputs": [
    {
     "ename": "",
     "evalue": "",
     "output_type": "error",
     "traceback": [
      "\u001b[1;31mRunning cells with '/Users/Gabriela/Documents/Machine learning/AADS_Google_maps/.conda/bin/python' requires the ipykernel package.\n",
      "\u001b[1;31mRun the following command to install 'ipykernel' into the Python environment. \n",
      "\u001b[1;31mCommand: 'conda install -p /Users/Gabriela/Documents/Machine learning/AADS_Google_maps/.conda ipykernel --update-deps --force-reinstall'"
     ]
    }
   ],
   "source": [
    "# If you put the map generated in a separate cell you can run multiple tests on the same map\n",
    "map_ = Map(2, (1,3))"
   ]
  },
  {
   "cell_type": "code",
   "execution_count": null,
   "id": "bfed76b9-0c84-42e1-a3a6-4d5a30b46271",
   "metadata": {},
   "outputs": [
    {
     "ename": "",
     "evalue": "",
     "output_type": "error",
     "traceback": [
      "\u001b[1;31mRunning cells with '/Users/Gabriela/Documents/Machine learning/AADS_Google_maps/.conda/bin/python' requires the ipykernel package.\n",
      "\u001b[1;31mRun the following command to install 'ipykernel' into the Python environment. \n",
      "\u001b[1;31mCommand: 'conda install -p /Users/Gabriela/Documents/Machine learning/AADS_Google_maps/.conda ipykernel --update-deps --force-reinstall'"
     ]
    }
   ],
   "source": [
    "plt.matplotlib.rcParams['figure.dpi'] = min(1000, max(50, map_.size ** 0.5 // 4))  # Number of pixels, therefore, the quality of the image. A large dpi is very slow.\n",
    "\n",
    "graph = Graph(map_)\n",
    "\n",
    "start = (0,0)\n",
    "end = [graph.get_random_node(), graph.get_random_node(), graph.get_random_node()]\n",
    "print(end)\n",
    "vehicle_speed = 180\n",
    "\n",
    "path, time = BFSSolverFastestPathMD()(graph, start, end, vehicle_speed)\n",
    "print(f\"The estimate travel time for the path is: {time}\")\n",
    "graph.show_coordinates(color='r', size=10)\n",
    "plt.plot([y for _,y in end], [x for x,_ in end], 'x', color=\"yellow\", markersize=20, mew=8, label=\"destinations\")\n",
    "plt.legend(loc='upper right')\n",
    "map_.show(path, True)\n"
   ]
  },
  {
   "cell_type": "markdown",
   "id": "d6c8a9bb-d774-4f4c-86a7-1b5012b0320c",
   "metadata": {
    "editable": false,
    "slideshow": {
     "slide_type": ""
    },
    "tags": []
   },
   "source": [
    "## 3.0 Fastest Path Between Coordinates (map level 5)\n",
    "\n",
    "The final exercise in this assignment is to combine the algorithms implemented so far to make a path from one coordinate to another where we go from a coordinate A -> closest node A -> highway exit A -> highway exit B -> closest node B -> coordinate B. In this exercise, you should not implement any new path-finding algorithms. Below you can find some hints and rules:\n",
    "- The algorithm you need to write has to work only on level 5 maps.\n",
    "- You only need to find the fastest path, ***not*** the shortest path.\n",
    "- You do not have to find the path in the order given above. For example, you can first find the path from coordinate A to closest node A and the path from coordinate B to closest node B before finding a path between highway exits.\n",
    "- Start with finding in which city each coordinate is.\n",
    "- You are allowed to use helper functions. For example, a function to calculate the time it takes to travel between two nodes.\n",
    "- When searching for the nearest exits assume that all exits are equally good.\n",
    "- If two nodes are in the same city, you need to check if using the highway is faster. This means, however, that you do not have to use them.\n",
    "- If you did [2.2](#2.2-Hierarchical-Graph-Representations), you need to use the different graphs. **You are never allowed to use a BFS solver on the whole map**, not even as a side/sub-step.\n",
    "- As explained in [2.3a](#2.3a-Solving-the-Hierarchical-Graph-Representations), just using one outcome of the previous path-finding algorithm can easily lead to a sub-optimal path. Therefore, to get to all points, you need to use the top $n$ (if possible) best path destinations from the previous algorithm as start destinations in the next path-finding algorithm.\n",
    "\n",
    "Just as a summary here are the classes and functions you implemented (that could be useful):\n",
    "- `Graph` class [link](#1.1.0-Making-Graph-Nodes-from-a-Map)\n",
    "- `coordinate_to_node` function [link](#2.1-From-Coordinate-to-Node)\n",
    "- `create_country_graphs` function [link](#2.2-Hierarchical-Graph-Representations)\n",
    "- `BFSSolverFastestPath` class [link](#2.0-Fastest-Path-with-BFS)\n",
    "- `BFSSolverFastestPathMD` class [link](#2.3b-Multiple-Destinations)\n",
    "- `BFSSolverMultipleFastestPaths` class [link](#2.3a-Solving-the-Hierarchical-Graph-Representations)\n",
    "\n",
    "[Go to map objects and methods](#Map-Objects-Methods-&-Attributes)"
   ]
  },
  {
   "cell_type": "code",
   "execution_count": null,
   "id": "d06f51f2-55e4-4acc-8341-f2554a44e202",
   "metadata": {},
   "outputs": [
    {
     "ename": "",
     "evalue": "",
     "output_type": "error",
     "traceback": [
      "\u001b[1;31mRunning cells with '/Users/Gabriela/Documents/Machine learning/AADS_Google_maps/.conda/bin/python' requires the ipykernel package.\n",
      "\u001b[1;31mRun the following command to install 'ipykernel' into the Python environment. \n",
      "\u001b[1;31mCommand: 'conda install -p /Users/Gabriela/Documents/Machine learning/AADS_Google_maps/.conda ipykernel --update-deps --force-reinstall'"
     ]
    }
   ],
   "source": [
    "%%execwritefile assignment2_{group}_notebook.py 300 -a -s \n",
    "\n",
    "def path_length(coordinate, closest_nodes, map_, vehicle_speed):\n",
    "    return [(node, (abs(node[0] - coordinate[0]) + abs(node[1] - coordinate[1])) / min(vehicle_speed, map_[coordinate])) for node in closest_nodes] \n",
    "\n",
    "def find_path(coordinate_A, coordinate_B, map_, vehicle_speed, find_at_most=3):\n",
    "    \"\"\"\n",
    "    Find the optimal path according to the divide and conquer strategy from coordinate A to coordinate B.\n",
    "\n",
    "    See hints and rules above on how to do this.\n",
    "\n",
    "    :param coordinate_A: The start coordinate\n",
    "    :type coordinate_A: tuple[int]\n",
    "    :param coordinate_B: The end coordinate\n",
    "    :type coordinate_B: tuple[int]\n",
    "    :param map_: The map on which the path needs to be found\n",
    "    :type map_: Map\n",
    "    :param vehicle_speed: The maximum vehicle speed\n",
    "    :type vehicle_speed: float\n",
    "    :param find_at_most: The number of routes to find for each path finding algorithm, defaults to 3. \n",
    "                         Note, that this is only needed if you did 2.3.\n",
    "    :type find_at_most: int, optional\n",
    "    :return: The path between coordinate_A and coordinate_B. Also, return the cost.\n",
    "    :rtype: list[tuple[int]], float\n",
    "    \"\"\"\n",
    "    raise NotImplementedError(\"Please complete this method\")"
   ]
  },
  {
   "cell_type": "markdown",
   "id": "10489701-3bd0-435b-b92f-fb7363e81df1",
   "metadata": {
    "editable": false,
    "slideshow": {
     "slide_type": ""
    },
    "tags": []
   },
   "source": [
    "### Test your code\n",
    "\n",
    "Below, you can test your algorithm. Make sure that you test various road grids and that your algorithm works for all of them. To give you a head start a very limited test is given. For example, make sure that you test how your algorithm works if both coordinates are in the same city."
   ]
  },
  {
   "cell_type": "code",
   "execution_count": null,
   "id": "40219da4-0279-4fd1-8f29-52863ec3cde7",
   "metadata": {},
   "outputs": [
    {
     "ename": "",
     "evalue": "",
     "output_type": "error",
     "traceback": [
      "\u001b[1;31mRunning cells with '/Users/Gabriela/Documents/Machine learning/AADS_Google_maps/.conda/bin/python' requires the ipykernel package.\n",
      "\u001b[1;31mRun the following command to install 'ipykernel' into the Python environment. \n",
      "\u001b[1;31mCommand: 'conda install -p /Users/Gabriela/Documents/Machine learning/AADS_Google_maps/.conda ipykernel --update-deps --force-reinstall'"
     ]
    }
   ],
   "source": [
    "# If you put the map generated in a separate cell you can run multiple tests on the same map\n",
    "map_ = Map(5, (2, 4), 2) "
   ]
  },
  {
   "cell_type": "code",
   "execution_count": null,
   "id": "6d7e8805-7b02-4eed-bde4-83aba4d39ac9",
   "metadata": {},
   "outputs": [
    {
     "ename": "",
     "evalue": "",
     "output_type": "error",
     "traceback": [
      "\u001b[1;31mRunning cells with '/Users/Gabriela/Documents/Machine learning/AADS_Google_maps/.conda/bin/python' requires the ipykernel package.\n",
      "\u001b[1;31mRun the following command to install 'ipykernel' into the Python environment. \n",
      "\u001b[1;31mCommand: 'conda install -p /Users/Gabriela/Documents/Machine learning/AADS_Google_maps/.conda ipykernel --update-deps --force-reinstall'"
     ]
    }
   ],
   "source": [
    "plt.matplotlib.rcParams['figure.dpi'] = min(1000, max(50, map_.size ** 0.5 // 4))  # Number of pixels, therefore, the quality of the image. A large dpi is very slow.\n",
    "\n",
    "start = map_.get_coordinate_in_city(RNG.integers(len(map_.city_grids)-1))\n",
    "end = map_.get_coordinate_in_city(RNG.integers(len(map_.city_grids)-1))\n",
    "vehicle_speed = 180\n",
    "\n",
    "path, time = find_path(start, end, map_, vehicle_speed, 3)\n",
    "print(f\"The estimate travel time for the path is: {time}\")\n",
    "# uncomment to see all nodes\n",
    "# graph = Graph(map_)\n",
    "# graph.show_coordinates(color='g', size=2)\n",
    "map_.show(path)"
   ]
  },
  {
   "cell_type": "markdown",
   "id": "c1fe59f8-bf58-4ae8-ac48-f8af0aa0e7cd",
   "metadata": {
    "editable": false,
    "slideshow": {
     "slide_type": ""
    },
    "tags": []
   },
   "source": [
    "# UNITTESTS\n",
    "\n",
    "During this assignment, we copied all your code to the following **.py** file **\"assignment2_{group}_notebook.py\"**. You also tested your code along the way. However, it is possible that there are still a few errors. Therefore, it is good to run some unittest when you complete all coding. This gives you an extra chance to spot mistakes. Here, we added some unittest for you to use. Note, that they are not ***complete*** and that they are merely an indication if you are above or below a 6 (still no guarantee). In this assignment, there are fewer unittest and the best unittest are checking in the images if your algorithm works. Try, for each algorithm different inputs and check if the route changing how you expect it to change.\n",
    "\n",
    "From this point onwards we strongly advise renaming the **\"assignment2_{group}_notebook.py\"** file to the correct file name that you need to hand in **\"assignment2_{group}.py\"**. Now, you can adjust the **\"assignment2_{group}.py\"** file without the risk of overwriting it when you run the notebook again. This also enables the possibility to run the unittests. Note, that from now on you are done programming in the notebook and you need to adjust the **.py** file to fix bugs. To run the unittests go to the **\"unit_test.py\"** file and run the file in either PyCharm, VSCode, or a terminal. You can run it in a terminal using the following command: `python -m unittest --verbose unit_test.py`. `--verbose` is optional but gives you more details about which tests fail and which succeed.\n",
    "\n",
    "You are allowed to add your own unittests.\n",
    "\n",
    "***Do not forget to write Your Report! Instruction can be found below***\n",
    "\n",
    "# Report\n",
    "\n",
    "Write a report in LATEX(at most 3 pages) using the provided template (see Brightspace), addressing the following points/research questions:\n",
    " - Introduction: Describe the problem. Describe a state and action explicitly in the context of this problem.\n",
    " - A (concise) description of the methods you implemented and why you need a priority queue for the BFS on graphs to make the algorithm work compared to BFS for the floodfill algorithm that does not use a priority queue.\n",
    " - Hypothesize about which algorithm is faster and what to possible downsides are of each algorithm.\n",
    " - A small experiment in which you compare (a) the exhaustive approach, as well as (b) the greedy approach, and show over several graphs of increasing size the best-found solution as well as the amount of time needed to come to a solution. You can use the module time (time.time()) to test how long each algorithm takes. However, make sure you do not have any other processes actively running in the background. A better way is using the module timeit for example timeit.repeat(). However, this is a bit more difficult to get working.\n",
    " - Alternatively, if you do not implement 2.2 and 2.3 find a paper that uses some form of hierarchical graphs to solve a path-finding problem and give a small summary of their findings, including what they test, a general explanation how their algorithm works, and their conclusions.\n",
    " - Summary and Discussion. What was the goal of the assignment? What have you done and observed? (think about the performance of the algorithms, as well as a reflection on how that relates to what you would have expected). Do not write about your personal experience and stories. Keep it scientific and simply summarize the report, making observations about the algorithms.\n",
    "\n",
    "## Work distribution\n",
    "\n",
    "At the end of the report, include a distribution of the work: who did what? By default, we\n",
    "give both group members the same grade, but in some extreme cases, we will adjust the grades according to the workload. The work distribution does not count towards the page limit.\n",
    "\n",
    "# Submission\n",
    "\n",
    "Submit your assignment through Brightspace by submitting the following files:\n",
    " - report.pdf (the report)\n",
    " - assignment2_{groupname}.py (your solution code), the groupname should be a string with the following format f\"{studentnumber1}_{studentnumber2}\". This name should not include \"notebook\" or \"backup\"!\n",
    " - assignment2.ipynb (backup if something goes wrong)\n",
    "   \n",
    "The deadline for this assignment is Wednesday 29 May 2023, 23:59 CET."
   ]
  },
  {
   "cell_type": "code",
   "execution_count": null,
   "id": "c0f2525a-f92b-4d7e-a02e-1f85b6cd94fc",
   "metadata": {
    "editable": true,
    "slideshow": {
     "slide_type": ""
    },
    "tags": []
   },
   "outputs": [
    {
     "ename": "",
     "evalue": "",
     "output_type": "error",
     "traceback": [
      "\u001b[1;31mRunning cells with '/Users/Gabriela/Documents/Machine learning/AADS_Google_maps/.conda/bin/python' requires the ipykernel package.\n",
      "\u001b[1;31mRun the following command to install 'ipykernel' into the Python environment. \n",
      "\u001b[1;31mCommand: 'conda install -p /Users/Gabriela/Documents/Machine learning/AADS_Google_maps/.conda ipykernel --update-deps --force-reinstall'"
     ]
    }
   ],
   "source": []
  }
 ],
 "metadata": {
  "kernelspec": {
   "display_name": "Python 3 (ipykernel)",
   "language": "python",
   "name": "python3"
  },
  "language_info": {
   "codemirror_mode": {
    "name": "ipython",
    "version": 3
   },
   "file_extension": ".py",
   "mimetype": "text/x-python",
   "name": "python",
   "nbconvert_exporter": "python",
   "pygments_lexer": "ipython3",
   "version": "3.11.7"
  }
 },
 "nbformat": 4,
 "nbformat_minor": 5
}
